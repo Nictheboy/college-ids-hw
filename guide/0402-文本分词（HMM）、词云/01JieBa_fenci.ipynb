{
 "cells": [
  {
   "cell_type": "code",
   "execution_count": 1,
   "metadata": {},
   "outputs": [
    {
     "name": "stderr",
     "output_type": "stream",
     "text": [
      "Building prefix dict from the default dictionary ...\n",
      "Loading model from cache C:\\Users\\ADMINI~1\\AppData\\Local\\Temp\\jieba.cache\n"
     ]
    },
    {
     "name": "stdout",
     "output_type": "stream",
     "text": [
      "<generator object Tokenizer.cut at 0x0000024541EAB040>\n"
     ]
    },
    {
     "name": "stderr",
     "output_type": "stream",
     "text": [
      "Loading model cost 1.298 seconds.\n",
      "Prefix dict has been built successfully.\n"
     ]
    },
    {
     "name": "stdout",
     "output_type": "stream",
     "text": [
      "我\n",
      "来到\n",
      "中国人民大学\n"
     ]
    }
   ],
   "source": [
    "# encoding=utf-8\n",
    "import jieba\n",
    "\n",
    "seg_list = jieba.cut(\"我来到中国人民大学\", cut_all=False)\n",
    "print(seg_list)\n",
    "for w in seg_list:\n",
    "    print(w)"
   ]
  },
  {
   "cell_type": "code",
   "execution_count": 2,
   "metadata": {},
   "outputs": [
    {
     "name": "stdout",
     "output_type": "stream",
     "text": [
      "<generator object Tokenizer.cut at 0x00000245465D9DD0>\n",
      "我\n",
      "来到\n",
      "中国\n",
      "中国人民大学\n",
      "国人\n",
      "人民\n",
      "人民大学\n",
      "大学\n"
     ]
    }
   ],
   "source": [
    "# encoding=utf-8\n",
    "import jieba\n",
    "\n",
    "seg_list = jieba.cut(\"我来到中国人民大学\", cut_all=True)\n",
    "print(seg_list)\n",
    "for w in seg_list:\n",
    "    print(w)"
   ]
  },
  {
   "cell_type": "code",
   "execution_count": 3,
   "metadata": {},
   "outputs": [
    {
     "name": "stdout",
     "output_type": "stream",
     "text": [
      "<generator object Tokenizer.cut_for_search at 0x00000245465D9F20>\n",
      "我\n",
      "来到\n",
      "中国\n",
      "国人\n",
      "人民\n",
      "大学\n",
      "中国人民大学\n"
     ]
    }
   ],
   "source": [
    "# encoding=utf-8\n",
    "import jieba\n",
    "\n",
    "seg_list = jieba.cut_for_search(\"我来到中国人民大学\")\n",
    "print(seg_list)\n",
    "for w in seg_list:\n",
    "    print(w)"
   ]
  },
  {
   "cell_type": "code",
   "execution_count": 4,
   "metadata": {},
   "outputs": [
    {
     "name": "stdout",
     "output_type": "stream",
     "text": [
      "['我', '来到', '中国人民大学']\n"
     ]
    }
   ],
   "source": [
    "# encoding=utf-8\n",
    "import jieba\n",
    "\n",
    "seg_list = jieba.lcut(\"我来到中国人民大学\", cut_all=False)\n",
    "print(seg_list)"
   ]
  },
  {
   "cell_type": "code",
   "execution_count": 5,
   "metadata": {},
   "outputs": [
    {
     "name": "stdout",
     "output_type": "stream",
     "text": [
      "中/区/食堂/和/北区/食堂/都/是/我/喜欢/的/中国人民大学/的/食堂/。\n"
     ]
    }
   ],
   "source": [
    "# encoding=utf-8\n",
    "import jieba\n",
    "seg_list = jieba.cut(\"中区食堂和北区食堂都是我喜欢的中国人民大学的食堂。\", cut_all=False)\n",
    "print(\"/\".join(seg_list))"
   ]
  },
  {
   "cell_type": "code",
   "execution_count": 6,
   "metadata": {},
   "outputs": [
    {
     "name": "stdout",
     "output_type": "stream",
     "text": [
      "中区食堂/和/北区/食堂/都/是/我/喜欢/的/中国人民大学/的/食堂/。\n"
     ]
    }
   ],
   "source": [
    "import jieba\n",
    "jieba.load_userdict(\"./dict.txt\")\n",
    "seg_list = jieba.cut(\"中区食堂和北区食堂都是我喜欢的中国人民大学的食堂。\", cut_all=False)\n",
    "print(\"/\".join(seg_list))"
   ]
  },
  {
   "cell_type": "code",
   "execution_count": 7,
   "metadata": {},
   "outputs": [
    {
     "name": "stdout",
     "output_type": "stream",
     "text": [
      "processed 200000 lines\n"
     ]
    }
   ],
   "source": [
    "#encoding=utf-8\n",
    "import jieba\n",
    "\n",
    "fnInput = \"./不带标签短信.txt\"\n",
    "fnOutput = \"./不带标签短信-seg.txt\"\n",
    "fin=open(fnInput, \"rb\")\n",
    "fout=open(fnOutput, \"w\",encoding='utf-8')\n",
    "\n",
    "numline=0\n",
    "for line in fin:\n",
    "    seg_list = jieba.cut(line, cut_all=False)\n",
    "    fout.write(\" \".join(seg_list))\n",
    "    numline=numline+1\n",
    "fin.close()\n",
    "fout.close()\n",
    "print(\"processed %d lines\"%numline)\n"
   ]
  },
  {
   "cell_type": "code",
   "execution_count": null,
   "metadata": {},
   "outputs": [],
   "source": []
  }
 ],
 "metadata": {
  "kernelspec": {
   "display_name": "Python 3",
   "language": "python",
   "name": "python3"
  },
  "language_info": {
   "codemirror_mode": {
    "name": "ipython",
    "version": 3
   },
   "file_extension": ".py",
   "mimetype": "text/x-python",
   "name": "python",
   "nbconvert_exporter": "python",
   "pygments_lexer": "ipython3",
   "version": "3.8.8"
  }
 },
 "nbformat": 4,
 "nbformat_minor": 2
}
