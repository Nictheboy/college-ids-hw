{
 "cells": [
  {
   "cell_type": "markdown",
   "id": "29f1ed2d",
   "metadata": {},
   "source": [
    "https://blog.csdn.net/weixin_42608414/article/details/88614946"
   ]
  },
  {
   "cell_type": "code",
   "execution_count": 1,
   "id": "30ba4b7e",
   "metadata": {},
   "outputs": [
    {
     "name": "stderr",
     "output_type": "stream",
     "text": [
      "C:\\Anaconda3\\lib\\site-packages\\funcy\\colls.py:6: DeprecationWarning: Using or importing the ABCs from 'collections' instead of from 'collections.abc' is deprecated since Python 3.3, and in 3.9 it will stop working\n",
      "  from collections import Mapping, Set, Iterable, Iterator, defaultdict\n",
      "C:\\Anaconda3\\lib\\site-packages\\funcy\\colls.py:6: DeprecationWarning: Using or importing the ABCs from 'collections' instead of from 'collections.abc' is deprecated since Python 3.3, and in 3.9 it will stop working\n",
      "  from collections import Mapping, Set, Iterable, Iterator, defaultdict\n",
      "C:\\Anaconda3\\lib\\site-packages\\funcy\\colls.py:6: DeprecationWarning: Using or importing the ABCs from 'collections' instead of from 'collections.abc' is deprecated since Python 3.3, and in 3.9 it will stop working\n",
      "  from collections import Mapping, Set, Iterable, Iterator, defaultdict\n",
      "C:\\Anaconda3\\lib\\site-packages\\funcy\\colls.py:6: DeprecationWarning: Using or importing the ABCs from 'collections' instead of from 'collections.abc' is deprecated since Python 3.3, and in 3.9 it will stop working\n",
      "  from collections import Mapping, Set, Iterable, Iterator, defaultdict\n",
      "C:\\Anaconda3\\lib\\site-packages\\funcy\\seqs.py:3: DeprecationWarning: Using or importing the ABCs from 'collections' instead of from 'collections.abc' is deprecated since Python 3.3, and in 3.9 it will stop working\n",
      "  from collections import defaultdict, deque, Sequence\n",
      "C:\\Anaconda3\\lib\\site-packages\\funcy\\funcmakers.py:45: DeprecationWarning: inspect.getargspec() is deprecated since Python 3.0, use inspect.signature() or inspect.getfullargspec()\n",
      "  spec = getargspec(func)\n",
      "C:\\Anaconda3\\lib\\site-packages\\funcy\\funcmakers.py:53: DeprecationWarning: `formatargspec` is deprecated since Python 3.5. Use `signature` and the `Signature` object directly\n",
      "  spec_str = formatargspec(*spec)[1:-1]\n",
      "C:\\Anaconda3\\lib\\site-packages\\funcy\\funcmakers.py:55: DeprecationWarning: `formatargspec` is deprecated since Python 3.5. Use `signature` and the `Signature` object directly\n",
      "  rest_str = formatargspec(*rest)[1:-1]\n",
      "C:\\Anaconda3\\lib\\site-packages\\funcy\\funcmakers.py:45: DeprecationWarning: inspect.getargspec() is deprecated since Python 3.0, use inspect.signature() or inspect.getfullargspec()\n",
      "  spec = getargspec(func)\n",
      "C:\\Anaconda3\\lib\\site-packages\\funcy\\funcmakers.py:53: DeprecationWarning: `formatargspec` is deprecated since Python 3.5. Use `signature` and the `Signature` object directly\n",
      "  spec_str = formatargspec(*spec)[1:-1]\n",
      "C:\\Anaconda3\\lib\\site-packages\\funcy\\funcmakers.py:55: DeprecationWarning: `formatargspec` is deprecated since Python 3.5. Use `signature` and the `Signature` object directly\n",
      "  rest_str = formatargspec(*rest)[1:-1]\n",
      "C:\\Anaconda3\\lib\\site-packages\\funcy\\funcmakers.py:45: DeprecationWarning: inspect.getargspec() is deprecated since Python 3.0, use inspect.signature() or inspect.getfullargspec()\n",
      "  spec = getargspec(func)\n",
      "C:\\Anaconda3\\lib\\site-packages\\funcy\\funcmakers.py:53: DeprecationWarning: `formatargspec` is deprecated since Python 3.5. Use `signature` and the `Signature` object directly\n",
      "  spec_str = formatargspec(*spec)[1:-1]\n",
      "C:\\Anaconda3\\lib\\site-packages\\funcy\\funcmakers.py:55: DeprecationWarning: `formatargspec` is deprecated since Python 3.5. Use `signature` and the `Signature` object directly\n",
      "  rest_str = formatargspec(*rest)[1:-1]\n",
      "C:\\Anaconda3\\lib\\site-packages\\funcy\\funcmakers.py:45: DeprecationWarning: inspect.getargspec() is deprecated since Python 3.0, use inspect.signature() or inspect.getfullargspec()\n",
      "  spec = getargspec(func)\n",
      "C:\\Anaconda3\\lib\\site-packages\\funcy\\funcmakers.py:53: DeprecationWarning: `formatargspec` is deprecated since Python 3.5. Use `signature` and the `Signature` object directly\n",
      "  spec_str = formatargspec(*spec)[1:-1]\n",
      "C:\\Anaconda3\\lib\\site-packages\\funcy\\funcmakers.py:55: DeprecationWarning: `formatargspec` is deprecated since Python 3.5. Use `signature` and the `Signature` object directly\n",
      "  rest_str = formatargspec(*rest)[1:-1]\n",
      "C:\\Anaconda3\\lib\\site-packages\\funcy\\funcmakers.py:45: DeprecationWarning: inspect.getargspec() is deprecated since Python 3.0, use inspect.signature() or inspect.getfullargspec()\n",
      "  spec = getargspec(func)\n",
      "C:\\Anaconda3\\lib\\site-packages\\funcy\\funcmakers.py:53: DeprecationWarning: `formatargspec` is deprecated since Python 3.5. Use `signature` and the `Signature` object directly\n",
      "  spec_str = formatargspec(*spec)[1:-1]\n",
      "C:\\Anaconda3\\lib\\site-packages\\funcy\\funcmakers.py:55: DeprecationWarning: `formatargspec` is deprecated since Python 3.5. Use `signature` and the `Signature` object directly\n",
      "  rest_str = formatargspec(*rest)[1:-1]\n",
      "C:\\Anaconda3\\lib\\site-packages\\funcy\\funcmakers.py:45: DeprecationWarning: inspect.getargspec() is deprecated since Python 3.0, use inspect.signature() or inspect.getfullargspec()\n",
      "  spec = getargspec(func)\n",
      "C:\\Anaconda3\\lib\\site-packages\\funcy\\funcmakers.py:53: DeprecationWarning: `formatargspec` is deprecated since Python 3.5. Use `signature` and the `Signature` object directly\n",
      "  spec_str = formatargspec(*spec)[1:-1]\n",
      "C:\\Anaconda3\\lib\\site-packages\\funcy\\funcmakers.py:55: DeprecationWarning: `formatargspec` is deprecated since Python 3.5. Use `signature` and the `Signature` object directly\n",
      "  rest_str = formatargspec(*rest)[1:-1]\n",
      "C:\\Anaconda3\\lib\\site-packages\\funcy\\funcmakers.py:45: DeprecationWarning: inspect.getargspec() is deprecated since Python 3.0, use inspect.signature() or inspect.getfullargspec()\n",
      "  spec = getargspec(func)\n",
      "C:\\Anaconda3\\lib\\site-packages\\funcy\\funcmakers.py:53: DeprecationWarning: `formatargspec` is deprecated since Python 3.5. Use `signature` and the `Signature` object directly\n",
      "  spec_str = formatargspec(*spec)[1:-1]\n",
      "C:\\Anaconda3\\lib\\site-packages\\funcy\\funcmakers.py:55: DeprecationWarning: `formatargspec` is deprecated since Python 3.5. Use `signature` and the `Signature` object directly\n",
      "  rest_str = formatargspec(*rest)[1:-1]\n",
      "C:\\Anaconda3\\lib\\site-packages\\funcy\\funcmakers.py:45: DeprecationWarning: inspect.getargspec() is deprecated since Python 3.0, use inspect.signature() or inspect.getfullargspec()\n",
      "  spec = getargspec(func)\n",
      "C:\\Anaconda3\\lib\\site-packages\\funcy\\funcmakers.py:53: DeprecationWarning: `formatargspec` is deprecated since Python 3.5. Use `signature` and the `Signature` object directly\n",
      "  spec_str = formatargspec(*spec)[1:-1]\n",
      "C:\\Anaconda3\\lib\\site-packages\\funcy\\funcmakers.py:55: DeprecationWarning: `formatargspec` is deprecated since Python 3.5. Use `signature` and the `Signature` object directly\n",
      "  rest_str = formatargspec(*rest)[1:-1]\n",
      "C:\\Anaconda3\\lib\\site-packages\\funcy\\funcmakers.py:45: DeprecationWarning: inspect.getargspec() is deprecated since Python 3.0, use inspect.signature() or inspect.getfullargspec()\n",
      "  spec = getargspec(func)\n",
      "C:\\Anaconda3\\lib\\site-packages\\funcy\\funcmakers.py:53: DeprecationWarning: `formatargspec` is deprecated since Python 3.5. Use `signature` and the `Signature` object directly\n",
      "  spec_str = formatargspec(*spec)[1:-1]\n",
      "C:\\Anaconda3\\lib\\site-packages\\funcy\\funcmakers.py:55: DeprecationWarning: `formatargspec` is deprecated since Python 3.5. Use `signature` and the `Signature` object directly\n",
      "  rest_str = formatargspec(*rest)[1:-1]\n",
      "C:\\Anaconda3\\lib\\site-packages\\funcy\\funcmakers.py:45: DeprecationWarning: inspect.getargspec() is deprecated since Python 3.0, use inspect.signature() or inspect.getfullargspec()\n",
      "  spec = getargspec(func)\n",
      "C:\\Anaconda3\\lib\\site-packages\\funcy\\funcmakers.py:53: DeprecationWarning: `formatargspec` is deprecated since Python 3.5. Use `signature` and the `Signature` object directly\n",
      "  spec_str = formatargspec(*spec)[1:-1]\n",
      "C:\\Anaconda3\\lib\\site-packages\\funcy\\funcmakers.py:55: DeprecationWarning: `formatargspec` is deprecated since Python 3.5. Use `signature` and the `Signature` object directly\n",
      "  rest_str = formatargspec(*rest)[1:-1]\n",
      "C:\\Anaconda3\\lib\\site-packages\\funcy\\funcmakers.py:45: DeprecationWarning: inspect.getargspec() is deprecated since Python 3.0, use inspect.signature() or inspect.getfullargspec()\n",
      "  spec = getargspec(func)\n",
      "C:\\Anaconda3\\lib\\site-packages\\funcy\\funcmakers.py:53: DeprecationWarning: `formatargspec` is deprecated since Python 3.5. Use `signature` and the `Signature` object directly\n",
      "  spec_str = formatargspec(*spec)[1:-1]\n",
      "C:\\Anaconda3\\lib\\site-packages\\funcy\\funcmakers.py:55: DeprecationWarning: `formatargspec` is deprecated since Python 3.5. Use `signature` and the `Signature` object directly\n",
      "  rest_str = formatargspec(*rest)[1:-1]\n",
      "C:\\Anaconda3\\lib\\site-packages\\funcy\\funcmakers.py:45: DeprecationWarning: inspect.getargspec() is deprecated since Python 3.0, use inspect.signature() or inspect.getfullargspec()\n",
      "  spec = getargspec(func)\n",
      "C:\\Anaconda3\\lib\\site-packages\\funcy\\funcmakers.py:53: DeprecationWarning: `formatargspec` is deprecated since Python 3.5. Use `signature` and the `Signature` object directly\n",
      "  spec_str = formatargspec(*spec)[1:-1]\n",
      "C:\\Anaconda3\\lib\\site-packages\\funcy\\funcmakers.py:55: DeprecationWarning: `formatargspec` is deprecated since Python 3.5. Use `signature` and the `Signature` object directly\n",
      "  rest_str = formatargspec(*rest)[1:-1]\n",
      "C:\\Anaconda3\\lib\\site-packages\\funcy\\funcmakers.py:45: DeprecationWarning: inspect.getargspec() is deprecated since Python 3.0, use inspect.signature() or inspect.getfullargspec()\n",
      "  spec = getargspec(func)\n",
      "C:\\Anaconda3\\lib\\site-packages\\funcy\\funcmakers.py:53: DeprecationWarning: `formatargspec` is deprecated since Python 3.5. Use `signature` and the `Signature` object directly\n",
      "  spec_str = formatargspec(*spec)[1:-1]\n",
      "C:\\Anaconda3\\lib\\site-packages\\funcy\\funcmakers.py:55: DeprecationWarning: `formatargspec` is deprecated since Python 3.5. Use `signature` and the `Signature` object directly\n",
      "  rest_str = formatargspec(*rest)[1:-1]\n",
      "C:\\Anaconda3\\lib\\site-packages\\funcy\\funcmakers.py:45: DeprecationWarning: inspect.getargspec() is deprecated since Python 3.0, use inspect.signature() or inspect.getfullargspec()\n",
      "  spec = getargspec(func)\n",
      "C:\\Anaconda3\\lib\\site-packages\\funcy\\funcmakers.py:53: DeprecationWarning: `formatargspec` is deprecated since Python 3.5. Use `signature` and the `Signature` object directly\n",
      "  spec_str = formatargspec(*spec)[1:-1]\n",
      "C:\\Anaconda3\\lib\\site-packages\\funcy\\funcmakers.py:55: DeprecationWarning: `formatargspec` is deprecated since Python 3.5. Use `signature` and the `Signature` object directly\n",
      "  rest_str = formatargspec(*rest)[1:-1]\n",
      "C:\\Anaconda3\\lib\\site-packages\\funcy\\funcmakers.py:45: DeprecationWarning: inspect.getargspec() is deprecated since Python 3.0, use inspect.signature() or inspect.getfullargspec()\n",
      "  spec = getargspec(func)\n",
      "C:\\Anaconda3\\lib\\site-packages\\funcy\\funcmakers.py:53: DeprecationWarning: `formatargspec` is deprecated since Python 3.5. Use `signature` and the `Signature` object directly\n",
      "  spec_str = formatargspec(*spec)[1:-1]\n",
      "C:\\Anaconda3\\lib\\site-packages\\funcy\\funcmakers.py:55: DeprecationWarning: `formatargspec` is deprecated since Python 3.5. Use `signature` and the `Signature` object directly\n",
      "  rest_str = formatargspec(*rest)[1:-1]\n",
      "C:\\Anaconda3\\lib\\site-packages\\funcy\\flow.py:2: DeprecationWarning: Using or importing the ABCs from 'collections' instead of from 'collections.abc' is deprecated since Python 3.3, and in 3.9 it will stop working\n",
      "  from collections import Hashable\n",
      "C:\\Anaconda3\\lib\\site-packages\\funcy\\decorators.py:59: DeprecationWarning: inspect.getargspec() is deprecated since Python 3.0, use inspect.signature() or inspect.getfullargspec()\n",
      "  spec = inspect.getargspec(func)\n",
      "C:\\Anaconda3\\lib\\site-packages\\funcy\\decorators.py:59: DeprecationWarning: inspect.getargspec() is deprecated since Python 3.0, use inspect.signature() or inspect.getfullargspec()\n",
      "  spec = inspect.getargspec(func)\n",
      "C:\\Anaconda3\\lib\\site-packages\\funcy\\decorators.py:59: DeprecationWarning: inspect.getargspec() is deprecated since Python 3.0, use inspect.signature() or inspect.getfullargspec()\n",
      "  spec = inspect.getargspec(func)\n",
      "C:\\Anaconda3\\lib\\site-packages\\funcy\\decorators.py:59: DeprecationWarning: inspect.getargspec() is deprecated since Python 3.0, use inspect.signature() or inspect.getfullargspec()\n",
      "  spec = inspect.getargspec(func)\n",
      "C:\\Anaconda3\\lib\\site-packages\\funcy\\decorators.py:59: DeprecationWarning: inspect.getargspec() is deprecated since Python 3.0, use inspect.signature() or inspect.getfullargspec()\n",
      "  spec = inspect.getargspec(func)\n",
      "C:\\Anaconda3\\lib\\site-packages\\funcy\\decorators.py:59: DeprecationWarning: inspect.getargspec() is deprecated since Python 3.0, use inspect.signature() or inspect.getfullargspec()\n",
      "  spec = inspect.getargspec(func)\n",
      "C:\\Anaconda3\\lib\\site-packages\\funcy\\decorators.py:59: DeprecationWarning: inspect.getargspec() is deprecated since Python 3.0, use inspect.signature() or inspect.getfullargspec()\n",
      "  spec = inspect.getargspec(func)\n",
      "C:\\Anaconda3\\lib\\site-packages\\funcy\\decorators.py:59: DeprecationWarning: inspect.getargspec() is deprecated since Python 3.0, use inspect.signature() or inspect.getfullargspec()\n",
      "  spec = inspect.getargspec(func)\n"
     ]
    }
   ],
   "source": [
    "import pandas as pd\n",
    "import chardet\n",
    "import pandas as pd\n",
    "import numpy as np\n",
    "import jieba as jb\n",
    "from sklearn.feature_extraction.text import TfidfVectorizer, CountVectorizer\n",
    "from sklearn.decomposition import NMF, LatentDirichletAllocation\n",
    "import gensim\n",
    "from gensim import corpora\n",
    "import pyLDAvis.gensim"
   ]
  },
  {
   "cell_type": "code",
   "execution_count": 2,
   "id": "16c3e271",
   "metadata": {},
   "outputs": [
    {
     "name": "stderr",
     "output_type": "stream",
     "text": [
      "C:\\Anaconda3\\lib\\site-packages\\ipykernel\\ipkernel.py:287: DeprecationWarning: `should_run_async` will not call `transform_cell` automatically in the future. Please pass the result to `transformed_cell` argument and any exception that happen during thetransform in `preprocessing_exc_tuple` in IPython 7.17 and above.\n",
      "  and should_run_async(code)\n"
     ]
    },
    {
     "data": {
      "text/html": [
       "<div>\n",
       "<style scoped>\n",
       "    .dataframe tbody tr th:only-of-type {\n",
       "        vertical-align: middle;\n",
       "    }\n",
       "\n",
       "    .dataframe tbody tr th {\n",
       "        vertical-align: top;\n",
       "    }\n",
       "\n",
       "    .dataframe thead th {\n",
       "        text-align: right;\n",
       "    }\n",
       "</style>\n",
       "<table border=\"1\" class=\"dataframe\">\n",
       "  <thead>\n",
       "    <tr style=\"text-align: right;\">\n",
       "      <th></th>\n",
       "      <th>Label</th>\n",
       "      <th>Title</th>\n",
       "      <th>Text</th>\n",
       "    </tr>\n",
       "  </thead>\n",
       "  <tbody>\n",
       "    <tr>\n",
       "      <th>0</th>\n",
       "      <td>水果</td>\n",
       "      <td>一些 水果1</td>\n",
       "      <td>苹果 苹果 苹果 苹果 苹果 苹果 苹果 苹果 苹果 香蕉  香蕉  葡萄</td>\n",
       "    </tr>\n",
       "    <tr>\n",
       "      <th>1</th>\n",
       "      <td>水果</td>\n",
       "      <td>一些 水果2</td>\n",
       "      <td>苹果 苹果 苹果 苹果 苹果 苹果 苹果 苹果 香蕉  香蕉  葡萄 葡萄 轿车</td>\n",
       "    </tr>\n",
       "    <tr>\n",
       "      <th>2</th>\n",
       "      <td>车辆</td>\n",
       "      <td>一些 车辆1</td>\n",
       "      <td>葡萄 葡萄 葡萄 轿车 轿车 轿车 卡车  卡车  卡车  卡车 火车  火车  火车  火...</td>\n",
       "    </tr>\n",
       "    <tr>\n",
       "      <th>3</th>\n",
       "      <td>车辆</td>\n",
       "      <td>一些 车辆2</td>\n",
       "      <td>香蕉  香蕉  轿车 轿车 卡车  卡车  卡车  卡车  火车  火车  火车  火车  ...</td>\n",
       "    </tr>\n",
       "    <tr>\n",
       "      <th>4</th>\n",
       "      <td>混合</td>\n",
       "      <td>混合1</td>\n",
       "      <td>苹果 苹果 葡萄 葡萄 火车  火车  火车</td>\n",
       "    </tr>\n",
       "  </tbody>\n",
       "</table>\n",
       "</div>"
      ],
      "text/plain": [
       "  Label   Title                                               Text\n",
       "0    水果  一些 水果1              苹果 苹果 苹果 苹果 苹果 苹果 苹果 苹果 苹果 香蕉  香蕉  葡萄\n",
       "1    水果  一些 水果2           苹果 苹果 苹果 苹果 苹果 苹果 苹果 苹果 香蕉  香蕉  葡萄 葡萄 轿车\n",
       "2    车辆  一些 车辆1  葡萄 葡萄 葡萄 轿车 轿车 轿车 卡车  卡车  卡车  卡车 火车  火车  火车  火...\n",
       "3    车辆  一些 车辆2  香蕉  香蕉  轿车 轿车 卡车  卡车  卡车  卡车  火车  火车  火车  火车  ...\n",
       "4    混合     混合1                             苹果 苹果 葡萄 葡萄 火车  火车  火车"
      ]
     },
     "execution_count": 2,
     "metadata": {},
     "output_type": "execute_result"
    }
   ],
   "source": [
    "my_doc_list = pd.read_csv('./my_corpus_chinese.csv', names=['Label', 'Title', 'Text'])\n",
    "\n",
    "my_doc_list.head()"
   ]
  },
  {
   "cell_type": "code",
   "execution_count": 3,
   "id": "08f8bae6",
   "metadata": {},
   "outputs": [
    {
     "name": "stderr",
     "output_type": "stream",
     "text": [
      "C:\\Anaconda3\\lib\\site-packages\\ipykernel\\ipkernel.py:287: DeprecationWarning: `should_run_async` will not call `transform_cell` automatically in the future. Please pass the result to `transformed_cell` argument and any exception that happen during thetransform in `preprocessing_exc_tuple` in IPython 7.17 and above.\n",
      "  and should_run_async(code)\n"
     ]
    }
   ],
   "source": [
    "#定义删除除字母,数字，汉字以外的所有符号的函数\n",
    "def remove_punctuation(line):\n",
    "    line = str(line)\n",
    "    if line.strip()=='':\n",
    "        return ''\n",
    "    rule = re.compile(u\"[^\\u4E00-\\u9FA5]\")\n",
    "    line = rule.sub('',line)\n",
    "    return line\n",
    " \n",
    "#停用词列表\n",
    "def stopwordslist(filepath):  \n",
    "    stopwords = [line.strip() for line in open(filepath, 'r', encoding='utf-8').readlines()]  \n",
    "    return stopwords  \n",
    " \n",
    "#加载停用词\n",
    "stopwords = stopwordslist(\"./my_stop_words_chinese.txt\")\n"
   ]
  },
  {
   "cell_type": "code",
   "execution_count": 4,
   "id": "d20c75d6",
   "metadata": {},
   "outputs": [
    {
     "name": "stderr",
     "output_type": "stream",
     "text": [
      "C:\\Anaconda3\\lib\\site-packages\\ipykernel\\ipkernel.py:287: DeprecationWarning: `should_run_async` will not call `transform_cell` automatically in the future. Please pass the result to `transformed_cell` argument and any exception that happen during thetransform in `preprocessing_exc_tuple` in IPython 7.17 and above.\n",
      "  and should_run_async(code)\n",
      "Building prefix dict from the default dictionary ...\n",
      "Loading model from cache C:\\Users\\ADMINI~1\\AppData\\Local\\Temp\\jieba.cache\n",
      "Loading model cost 1.370 seconds.\n",
      "Prefix dict has been built successfully.\n"
     ]
    },
    {
     "data": {
      "text/html": [
       "<div>\n",
       "<style scoped>\n",
       "    .dataframe tbody tr th:only-of-type {\n",
       "        vertical-align: middle;\n",
       "    }\n",
       "\n",
       "    .dataframe tbody tr th {\n",
       "        vertical-align: top;\n",
       "    }\n",
       "\n",
       "    .dataframe thead th {\n",
       "        text-align: right;\n",
       "    }\n",
       "</style>\n",
       "<table border=\"1\" class=\"dataframe\">\n",
       "  <thead>\n",
       "    <tr style=\"text-align: right;\">\n",
       "      <th></th>\n",
       "      <th>Label</th>\n",
       "      <th>Title</th>\n",
       "      <th>Text</th>\n",
       "      <th>Cleaned_Text</th>\n",
       "      <th>Cut_Text</th>\n",
       "    </tr>\n",
       "  </thead>\n",
       "  <tbody>\n",
       "    <tr>\n",
       "      <th>0</th>\n",
       "      <td>水果</td>\n",
       "      <td>一些 水果1</td>\n",
       "      <td>苹果 苹果 苹果 苹果 苹果 苹果 苹果 苹果 苹果 香蕉  香蕉  葡萄</td>\n",
       "      <td>苹果苹果苹果苹果苹果苹果苹果苹果苹果香蕉香蕉葡萄</td>\n",
       "      <td>苹果 苹果 苹果 苹果 苹果 苹果 苹果 苹果 苹果 香蕉 香蕉 葡萄</td>\n",
       "    </tr>\n",
       "    <tr>\n",
       "      <th>1</th>\n",
       "      <td>水果</td>\n",
       "      <td>一些 水果2</td>\n",
       "      <td>苹果 苹果 苹果 苹果 苹果 苹果 苹果 苹果 香蕉  香蕉  葡萄 葡萄 轿车</td>\n",
       "      <td>苹果苹果苹果苹果苹果苹果苹果苹果香蕉香蕉葡萄葡萄轿车</td>\n",
       "      <td>苹果 苹果 苹果 苹果 苹果 苹果 苹果 苹果 香蕉 香蕉 葡萄 葡萄 轿车</td>\n",
       "    </tr>\n",
       "    <tr>\n",
       "      <th>2</th>\n",
       "      <td>车辆</td>\n",
       "      <td>一些 车辆1</td>\n",
       "      <td>葡萄 葡萄 葡萄 轿车 轿车 轿车 卡车  卡车  卡车  卡车 火车  火车  火车  火...</td>\n",
       "      <td>葡萄葡萄葡萄轿车轿车轿车卡车卡车卡车卡车火车火车火车火车火车火车火车火车</td>\n",
       "      <td>葡萄 葡萄 葡萄 轿车 轿车 轿车 卡车 卡车 卡车 卡车 火车 火车 火车 火车 火车 火...</td>\n",
       "    </tr>\n",
       "    <tr>\n",
       "      <th>3</th>\n",
       "      <td>车辆</td>\n",
       "      <td>一些 车辆2</td>\n",
       "      <td>香蕉  香蕉  轿车 轿车 卡车  卡车  卡车  卡车  火车  火车  火车  火车  ...</td>\n",
       "      <td>香蕉香蕉轿车轿车卡车卡车卡车卡车火车火车火车火车火车火车火车</td>\n",
       "      <td>香蕉 香蕉 轿车 轿车 卡车 卡车 卡车 卡车 火车 火车 火车 火车 火车 火车 火车</td>\n",
       "    </tr>\n",
       "    <tr>\n",
       "      <th>4</th>\n",
       "      <td>混合</td>\n",
       "      <td>混合1</td>\n",
       "      <td>苹果 苹果 葡萄 葡萄 火车  火车  火车</td>\n",
       "      <td>苹果苹果葡萄葡萄火车火车火车</td>\n",
       "      <td>苹果 苹果 葡萄 葡萄 火车 火车 火车</td>\n",
       "    </tr>\n",
       "  </tbody>\n",
       "</table>\n",
       "</div>"
      ],
      "text/plain": [
       "  Label   Title                                               Text  \\\n",
       "0    水果  一些 水果1              苹果 苹果 苹果 苹果 苹果 苹果 苹果 苹果 苹果 香蕉  香蕉  葡萄   \n",
       "1    水果  一些 水果2           苹果 苹果 苹果 苹果 苹果 苹果 苹果 苹果 香蕉  香蕉  葡萄 葡萄 轿车   \n",
       "2    车辆  一些 车辆1  葡萄 葡萄 葡萄 轿车 轿车 轿车 卡车  卡车  卡车  卡车 火车  火车  火车  火...   \n",
       "3    车辆  一些 车辆2  香蕉  香蕉  轿车 轿车 卡车  卡车  卡车  卡车  火车  火车  火车  火车  ...   \n",
       "4    混合     混合1                             苹果 苹果 葡萄 葡萄 火车  火车  火车   \n",
       "\n",
       "                           Cleaned_Text  \\\n",
       "0              苹果苹果苹果苹果苹果苹果苹果苹果苹果香蕉香蕉葡萄   \n",
       "1            苹果苹果苹果苹果苹果苹果苹果苹果香蕉香蕉葡萄葡萄轿车   \n",
       "2  葡萄葡萄葡萄轿车轿车轿车卡车卡车卡车卡车火车火车火车火车火车火车火车火车   \n",
       "3        香蕉香蕉轿车轿车卡车卡车卡车卡车火车火车火车火车火车火车火车   \n",
       "4                        苹果苹果葡萄葡萄火车火车火车   \n",
       "\n",
       "                                            Cut_Text  \n",
       "0                苹果 苹果 苹果 苹果 苹果 苹果 苹果 苹果 苹果 香蕉 香蕉 葡萄  \n",
       "1             苹果 苹果 苹果 苹果 苹果 苹果 苹果 苹果 香蕉 香蕉 葡萄 葡萄 轿车  \n",
       "2  葡萄 葡萄 葡萄 轿车 轿车 轿车 卡车 卡车 卡车 卡车 火车 火车 火车 火车 火车 火...  \n",
       "3       香蕉 香蕉 轿车 轿车 卡车 卡车 卡车 卡车 火车 火车 火车 火车 火车 火车 火车  \n",
       "4                               苹果 苹果 葡萄 葡萄 火车 火车 火车  "
      ]
     },
     "execution_count": 4,
     "metadata": {},
     "output_type": "execute_result"
    }
   ],
   "source": [
    "import re\n",
    "\n",
    "#删除除汉字以外的所有符号\n",
    "my_doc_list['Cleaned_Text'] = my_doc_list['Text'].apply(remove_punctuation)\n",
    " \n",
    "#分词，并过滤停用词\n",
    "my_doc_list['Cut_Text'] = my_doc_list['Cleaned_Text'].apply(lambda x: \" \".join([w for w in list(jb.cut(x)) if w not in stopwords]))\n",
    "my_doc_list.head()"
   ]
  },
  {
   "cell_type": "code",
   "execution_count": 5,
   "id": "c5874d46",
   "metadata": {},
   "outputs": [
    {
     "name": "stdout",
     "output_type": "stream",
     "text": [
      "tfidf_features   (0, 3)\t0.09086689624289442\n",
      "  (0, 5)\t0.21603302657828347\n",
      "  (0, 2)\t0.9721486196022756\n",
      "  (1, 4)\t0.11798994679890115\n",
      "  (1, 3)\t0.19851372585562138\n",
      "  (1, 5)\t0.2359798935978023\n",
      "  (1, 2)\t0.9439195743912092\n",
      "  (2, 1)\t0.789839261240196\n",
      "  (2, 0)\t0.4757550047131687\n",
      "  (2, 4)\t0.29618972296507345\n",
      "  (2, 3)\t0.24916413245848087\n",
      "  (3, 1)\t0.7815480615731121\n",
      "  (3, 0)\t0.538012399612908\n",
      "  (3, 4)\t0.22329944616374628\n",
      "  (3, 5)\t0.22329944616374628\n",
      "  (4, 1)\t0.7540001691930586\n",
      "  (4, 3)\t0.4228591416560611\n",
      "  (4, 2)\t0.5026667794620391\n",
      "tfidf_feature_names ['卡车', '火车', '苹果', '葡萄', '轿车', '香蕉']\n"
     ]
    },
    {
     "name": "stderr",
     "output_type": "stream",
     "text": [
      "C:\\Anaconda3\\lib\\site-packages\\ipykernel\\ipkernel.py:287: DeprecationWarning: `should_run_async` will not call `transform_cell` automatically in the future. Please pass the result to `transformed_cell` argument and any exception that happen during thetransform in `preprocessing_exc_tuple` in IPython 7.17 and above.\n",
      "  and should_run_async(code)\n"
     ]
    }
   ],
   "source": [
    "no_features = 6\n",
    " \n",
    " \n",
    "tfidf = TfidfVectorizer(max_features=no_features)\n",
    "tfidf_features = tfidf.fit_transform( my_doc_list.Cut_Text)\n",
    "tfidf_feature_names = tfidf.get_feature_names()\n",
    "\n",
    "print(\"tfidf_features\",tfidf_features)\n",
    "print(\"tfidf_feature_names\",tfidf_feature_names)"
   ]
  },
  {
   "cell_type": "code",
   "execution_count": 6,
   "id": "ed3171b7",
   "metadata": {},
   "outputs": [
    {
     "name": "stdout",
     "output_type": "stream",
     "text": [
      "cv_features   (0, 2)\t9\n",
      "  (0, 5)\t2\n",
      "  (0, 3)\t1\n",
      "  (1, 2)\t8\n",
      "  (1, 5)\t2\n",
      "  (1, 3)\t2\n",
      "  (1, 4)\t1\n",
      "  (2, 3)\t3\n",
      "  (2, 4)\t3\n",
      "  (2, 0)\t4\n",
      "  (2, 1)\t8\n",
      "  (3, 5)\t2\n",
      "  (3, 4)\t2\n",
      "  (3, 0)\t4\n",
      "  (3, 1)\t7\n",
      "  (4, 2)\t2\n",
      "  (4, 3)\t2\n",
      "  (4, 1)\t3\n",
      "cv_feature_names ['卡车', '火车', '苹果', '葡萄', '轿车', '香蕉']\n"
     ]
    },
    {
     "name": "stderr",
     "output_type": "stream",
     "text": [
      "C:\\Anaconda3\\lib\\site-packages\\ipykernel\\ipkernel.py:287: DeprecationWarning: `should_run_async` will not call `transform_cell` automatically in the future. Please pass the result to `transformed_cell` argument and any exception that happen during thetransform in `preprocessing_exc_tuple` in IPython 7.17 and above.\n",
      "  and should_run_async(code)\n"
     ]
    }
   ],
   "source": [
    "cv = CountVectorizer(max_features=no_features)\n",
    "cv_features = cv.fit_transform( my_doc_list.Cut_Text)\n",
    "cv_feature_names = cv.get_feature_names()\n",
    "\n",
    "print(\"cv_features\",cv_features)\n",
    "print(\"cv_feature_names\",cv_feature_names)"
   ]
  },
  {
   "cell_type": "code",
   "execution_count": 7,
   "id": "797ec48c",
   "metadata": {},
   "outputs": [
    {
     "name": "stderr",
     "output_type": "stream",
     "text": [
      "C:\\Anaconda3\\lib\\site-packages\\ipykernel\\ipkernel.py:287: DeprecationWarning: `should_run_async` will not call `transform_cell` automatically in the future. Please pass the result to `transformed_cell` argument and any exception that happen during thetransform in `preprocessing_exc_tuple` in IPython 7.17 and above.\n",
      "  and should_run_async(code)\n"
     ]
    }
   ],
   "source": [
    "no_topics = 2\n",
    " \n",
    "#NMF\n",
    "nmf_tfidf = NMF(n_components=no_topics, random_state=1, alpha=.1, l1_ratio=.5, init='nndsvd').fit(tfidf_features)"
   ]
  },
  {
   "cell_type": "code",
   "execution_count": 8,
   "id": "704ec4e4",
   "metadata": {},
   "outputs": [
    {
     "name": "stdout",
     "output_type": "stream",
     "text": [
      "NMF-tfidf_features 主题\n",
      "主题 0 : 火车|卡车|轿车|葡萄\n",
      "主题 1 : 苹果|葡萄|香蕉|火车\n"
     ]
    },
    {
     "name": "stderr",
     "output_type": "stream",
     "text": [
      "C:\\Anaconda3\\lib\\site-packages\\ipykernel\\ipkernel.py:287: DeprecationWarning: `should_run_async` will not call `transform_cell` automatically in the future. Please pass the result to `transformed_cell` argument and any exception that happen during thetransform in `preprocessing_exc_tuple` in IPython 7.17 and above.\n",
      "  and should_run_async(code)\n"
     ]
    }
   ],
   "source": [
    "def display_topics(model, feature_names, no_top_words):\n",
    "    for topic_idx, topic in enumerate(model.components_):\n",
    "        print(\"主题 {} : {}\".format(topic_idx,\"|\".join([feature_names[i] for i in topic.argsort()[:-no_top_words - 1:-1]])))\n",
    " \n",
    "no_top_words = 4\n",
    "print('NMF-tfidf_features 主题')\n",
    "display_topics(nmf_tfidf, tfidf_feature_names, no_top_words)"
   ]
  },
  {
   "cell_type": "code",
   "execution_count": null,
   "id": "52646594",
   "metadata": {},
   "outputs": [],
   "source": []
  }
 ],
 "metadata": {
  "kernelspec": {
   "display_name": "Python 3",
   "language": "python",
   "name": "python3"
  },
  "language_info": {
   "codemirror_mode": {
    "name": "ipython",
    "version": 3
   },
   "file_extension": ".py",
   "mimetype": "text/x-python",
   "name": "python",
   "nbconvert_exporter": "python",
   "pygments_lexer": "ipython3",
   "version": "3.8.8"
  }
 },
 "nbformat": 4,
 "nbformat_minor": 5
}
