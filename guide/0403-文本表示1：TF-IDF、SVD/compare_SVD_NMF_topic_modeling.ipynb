{
 "cells": [
  {
   "cell_type": "markdown",
   "id": "8d1fe754",
   "metadata": {},
   "source": [
    "https://dsfabric.org/topic-modeling-in-python-latent-semantic-analysis"
   ]
  },
  {
   "cell_type": "code",
   "execution_count": 1,
   "id": "6e053742",
   "metadata": {},
   "outputs": [],
   "source": [
    "import re\n",
    "from pprint import pprint\n",
    "\n",
    "import nltk\n",
    "import numpy as np\n",
    "import pandas as pd\n",
    "from gensim.corpora import Dictionary\n",
    "from gensim.models import LsiModel\n",
    "from nltk.corpus import stopwords\n",
    "from nltk.stem import WordNetLemmatizer\n",
    "from nltk.tokenize import word_tokenize\n",
    "from scipy import linalg\n",
    "from sklearn import decomposition\n",
    "from sklearn.datasets import fetch_20newsgroups\n",
    "from sklearn.feature_extraction.text import CountVectorizer"
   ]
  },
  {
   "cell_type": "code",
   "execution_count": 2,
   "id": "1aad3a36",
   "metadata": {},
   "outputs": [
    {
     "data": {
      "text/html": [
       "<div>\n",
       "<style scoped>\n",
       "    .dataframe tbody tr th:only-of-type {\n",
       "        vertical-align: middle;\n",
       "    }\n",
       "\n",
       "    .dataframe tbody tr th {\n",
       "        vertical-align: top;\n",
       "    }\n",
       "\n",
       "    .dataframe thead th {\n",
       "        text-align: right;\n",
       "    }\n",
       "</style>\n",
       "<table border=\"1\" class=\"dataframe\">\n",
       "  <thead>\n",
       "    <tr style=\"text-align: right;\">\n",
       "      <th></th>\n",
       "      <th>Label</th>\n",
       "      <th>Title</th>\n",
       "      <th>Text</th>\n",
       "    </tr>\n",
       "  </thead>\n",
       "  <tbody>\n",
       "    <tr>\n",
       "      <th>0</th>\n",
       "      <td>fruit</td>\n",
       "      <td>some fruit1</td>\n",
       "      <td>apple apple apple apple apple apple apple appl...</td>\n",
       "    </tr>\n",
       "    <tr>\n",
       "      <th>1</th>\n",
       "      <td>fruit</td>\n",
       "      <td>some fruit2</td>\n",
       "      <td>apple apple apple apple apple apple apple appl...</td>\n",
       "    </tr>\n",
       "    <tr>\n",
       "      <th>2</th>\n",
       "      <td>vehicle</td>\n",
       "      <td>some vehicle1</td>\n",
       "      <td>grape grape grape car car car truck  truck  tr...</td>\n",
       "    </tr>\n",
       "    <tr>\n",
       "      <th>3</th>\n",
       "      <td>vehicle</td>\n",
       "      <td>some vehicle2</td>\n",
       "      <td>banana  banana  car car truck  truck  truck  t...</td>\n",
       "    </tr>\n",
       "    <tr>\n",
       "      <th>4</th>\n",
       "      <td>mix</td>\n",
       "      <td>mix1</td>\n",
       "      <td>apple apple grape grape train  train  train</td>\n",
       "    </tr>\n",
       "  </tbody>\n",
       "</table>\n",
       "</div>"
      ],
      "text/plain": [
       "     Label          Title                                               Text\n",
       "0    fruit    some fruit1  apple apple apple apple apple apple apple appl...\n",
       "1    fruit    some fruit2  apple apple apple apple apple apple apple appl...\n",
       "2  vehicle  some vehicle1  grape grape grape car car car truck  truck  tr...\n",
       "3  vehicle  some vehicle2  banana  banana  car car truck  truck  truck  t...\n",
       "4      mix           mix1        apple apple grape grape train  train  train"
      ]
     },
     "execution_count": 2,
     "metadata": {},
     "output_type": "execute_result"
    }
   ],
   "source": [
    "my_doc_list = pd.read_csv('./my_corpus_english.csv', names=['Label', 'Title', 'Text'])\n",
    "\n",
    "my_doc_list.head()"
   ]
  },
  {
   "cell_type": "code",
   "execution_count": 3,
   "id": "d1954140",
   "metadata": {},
   "outputs": [
    {
     "data": {
      "text/plain": [
       "(5, 3)"
      ]
     },
     "execution_count": 3,
     "metadata": {},
     "output_type": "execute_result"
    }
   ],
   "source": [
    "my_doc_list.shape"
   ]
  },
  {
   "cell_type": "code",
   "execution_count": 4,
   "id": "6bcc6f88",
   "metadata": {},
   "outputs": [
    {
     "data": {
      "text/plain": [
       "0    apple apple apple apple apple apple apple appl...\n",
       "1    apple apple apple apple apple apple apple appl...\n",
       "2    grape grape grape car car car truck  truck  tr...\n",
       "3    banana  banana  car car truck  truck  truck  t...\n",
       "4          apple apple grape grape train  train  train\n",
       "Name: Text, dtype: object"
      ]
     },
     "execution_count": 4,
     "metadata": {},
     "output_type": "execute_result"
    }
   ],
   "source": [
    "df_text = my_doc_list['Text']\n",
    "\n",
    "df_text.head()"
   ]
  },
  {
   "cell_type": "markdown",
   "id": "021db4f8",
   "metadata": {},
   "source": [
    "# LSI(SVD) - gensim"
   ]
  },
  {
   "cell_type": "code",
   "execution_count": 5,
   "id": "42d6bf04",
   "metadata": {},
   "outputs": [
    {
     "name": "stdout",
     "output_type": "stream",
     "text": [
      "apple apple apple apple apple apple apple apple apple banana  banana  grape\n"
     ]
    }
   ],
   "source": [
    "documents_list = []\n",
    "\n",
    "for line in df_text:\n",
    "    sentence = line.strip()\n",
    "    new_sentence = re.sub(r\"\\d\",\"\", sentence)\n",
    "\n",
    "    documents_list.append(sentence)\n",
    "\n",
    "print(documents_list[0])"
   ]
  },
  {
   "cell_type": "code",
   "execution_count": 6,
   "id": "42dd4f41",
   "metadata": {},
   "outputs": [],
   "source": [
    "# Standard stop words in NLTK\n",
    "stop_words = set(stopwords.words('english'))"
   ]
  },
  {
   "cell_type": "code",
   "execution_count": 7,
   "id": "08b1d3a3",
   "metadata": {},
   "outputs": [
    {
     "name": "stdout",
     "output_type": "stream",
     "text": [
      "['apple', 'apple', 'apple', 'apple', 'apple', 'apple', 'apple', 'apple', 'apple', 'banana', 'banana', 'grape']\n"
     ]
    }
   ],
   "source": [
    "# Here is pre-processed documents\n",
    "processed_list = []\n",
    "\n",
    "# Lemmatizer\n",
    "lemmatizer = WordNetLemmatizer()\n",
    "\n",
    "\n",
    "for doc in documents_list:\n",
    "    tokens = word_tokenize(doc.lower())\n",
    "\n",
    "    stopped_tokens = [token for token in tokens if token not in stop_words]\n",
    "\n",
    "    lemmatized_tokens = [lemmatizer.lemmatize(i, pos=\"n\") for i in stopped_tokens]\n",
    "\n",
    "    processed_list.append(lemmatized_tokens)\n",
    "\n",
    "print(processed_list[0])"
   ]
  },
  {
   "cell_type": "code",
   "execution_count": 8,
   "id": "798627e8",
   "metadata": {},
   "outputs": [
    {
     "name": "stdout",
     "output_type": "stream",
     "text": [
      "Dictionary(6 unique tokens: ['apple', 'banana', 'grape', 'car', 'train']...)\n"
     ]
    }
   ],
   "source": [
    "word_dictionary = Dictionary(processed_list)\n",
    "\n",
    "print(word_dictionary)"
   ]
  },
  {
   "cell_type": "code",
   "execution_count": 9,
   "id": "54562f7b",
   "metadata": {},
   "outputs": [
    {
     "data": {
      "text/plain": [
       "[[(0, 9), (1, 2), (2, 1)],\n",
       " [(0, 8), (1, 2), (2, 2), (3, 1)],\n",
       " [(2, 3), (3, 3), (4, 8), (5, 4)],\n",
       " [(1, 2), (3, 2), (4, 7), (5, 4)],\n",
       " [(0, 2), (2, 2), (4, 3)]]"
      ]
     },
     "execution_count": 9,
     "metadata": {},
     "output_type": "execute_result"
    }
   ],
   "source": [
    "document_word_matrix = [word_dictionary.doc2bow(document) for document in processed_list]\n",
    "document_word_matrix"
   ]
  },
  {
   "cell_type": "code",
   "execution_count": 10,
   "id": "8906624e",
   "metadata": {},
   "outputs": [],
   "source": [
    "NUM_TOPICS = 2\n",
    "\n",
    "lsi_model = LsiModel(corpus=document_word_matrix, num_topics=NUM_TOPICS, id2word=word_dictionary)"
   ]
  },
  {
   "cell_type": "code",
   "execution_count": 11,
   "id": "6529b486",
   "metadata": {},
   "outputs": [
    {
     "name": "stdout",
     "output_type": "stream",
     "text": [
      "[(0,\n",
      "  [('train', 0.6611919499942059),\n",
      "   ('apple', 0.54942707037681),\n",
      "   ('truck', 0.31968498514330346),\n",
      "   ('grape', 0.25908187452359976),\n",
      "   ('car', 0.23314174989662073),\n",
      "   ('banana', 0.19307541692929353)]),\n",
      " (1,\n",
      "  [('apple', -0.788067788509512),\n",
      "   ('train', 0.5194983492858765),\n",
      "   ('truck', 0.2763164859167143),\n",
      "   ('car', 0.1322965145937798),\n",
      "   ('banana', -0.12091104772479874),\n",
      "   ('grape', -0.024453551440314407)])]\n"
     ]
    }
   ],
   "source": [
    "lsi_topics = lsi_model.show_topics(num_topics=NUM_TOPICS, formatted=False)\n",
    "\n",
    "pprint(lsi_topics)"
   ]
  },
  {
   "cell_type": "markdown",
   "id": "765c0b19",
   "metadata": {},
   "source": [
    "两个主题，看前3个word，感觉一下是什么主题"
   ]
  },
  {
   "cell_type": "markdown",
   "id": "441df1a0",
   "metadata": {},
   "source": [
    "# LSI(SVD) - sklearn"
   ]
  },
  {
   "cell_type": "code",
   "execution_count": 12,
   "id": "dcdac317",
   "metadata": {},
   "outputs": [
    {
     "data": {
      "text/plain": [
       "0    apple apple apple apple apple apple apple appl...\n",
       "1    apple apple apple apple apple apple apple appl...\n",
       "2    grape grape grape car car car truck  truck  tr...\n",
       "3    banana  banana  car car truck  truck  truck  t...\n",
       "4          apple apple grape grape train  train  train\n",
       "Name: Text, dtype: object"
      ]
     },
     "execution_count": 12,
     "metadata": {},
     "output_type": "execute_result"
    }
   ],
   "source": [
    "df_text.head()"
   ]
  },
  {
   "cell_type": "code",
   "execution_count": 13,
   "id": "9fc52dcd",
   "metadata": {},
   "outputs": [
    {
     "name": "stdout",
     "output_type": "stream",
     "text": [
      "[[9 2 0 1 0 0]\n",
      " [8 2 1 2 0 0]\n",
      " [0 0 3 3 8 4]\n",
      " [0 2 2 0 7 4]\n",
      " [2 0 0 2 3 0]]\n"
     ]
    }
   ],
   "source": [
    "# Define CountVectorizer\n",
    "vectorizer = CountVectorizer(stop_words='english')\n",
    "\n",
    "# Apply it to the dataset\n",
    "document_word_matrix = vectorizer.fit_transform(df_text).todense()\n",
    "\n",
    "# Print the result\n",
    "print(document_word_matrix)"
   ]
  },
  {
   "cell_type": "code",
   "execution_count": 14,
   "id": "b076d863",
   "metadata": {},
   "outputs": [
    {
     "name": "stdout",
     "output_type": "stream",
     "text": [
      "array(['apple', 'banana', 'car', 'grape', 'train', 'truck'], dtype='<U6')\n"
     ]
    }
   ],
   "source": [
    "vocab = np.array(vectorizer.get_feature_names())\n",
    "\n",
    "pprint(vocab)"
   ]
  },
  {
   "cell_type": "code",
   "execution_count": 15,
   "id": "7b42cc89",
   "metadata": {},
   "outputs": [],
   "source": [
    "U, s, Vh = linalg.svd(document_word_matrix, full_matrices=False)"
   ]
  },
  {
   "cell_type": "code",
   "execution_count": 16,
   "id": "46a642a8",
   "metadata": {},
   "outputs": [
    {
     "name": "stdout",
     "output_type": "stream",
     "text": [
      "Shape of U (5, 5)\n",
      "Shape of s (5,)\n",
      "Shape of Vh (5, 6)\n",
      "U [[ 0.4107263   0.60121503  0.18922803 -0.22447225 -0.61939435]\n",
      " [ 0.40652332  0.52801984 -0.06683286  0.4288696   0.60624918]\n",
      " [ 0.59109588 -0.45627215 -0.42795813  0.39279538 -0.32401392]\n",
      " [ 0.49665007 -0.38925788  0.69568819 -0.2357803   0.24948468]\n",
      " [ 0.26455069  0.00543689 -0.54092135 -0.74552164  0.2856308 ]]\n",
      "s [13.6102225  12.24002292  3.03332537  1.53361399  0.6250181 ]\n",
      "Vh [[ 0.54942707  0.19307542  0.23314175  0.25908187  0.66119195  0.31968499]\n",
      " [ 0.78806779  0.12091105 -0.13229651  0.02445355 -0.51949835 -0.27631649]\n",
      " [ 0.02853195  0.53939704  0.01340745 -0.76159148 -0.0582238   0.35305156]\n",
      " [-0.05238392 -0.0409268   0.74053519  0.20905509 -0.48556158  0.40952958]\n",
      " [-0.24526344  0.75626453  0.21307669  0.30770926  0.0178776  -0.4769733 ]]\n"
     ]
    }
   ],
   "source": [
    "print('Shape of U', U.shape)\n",
    "print('Shape of s', s.shape)\n",
    "print('Shape of Vh', Vh.shape)\n",
    "\n",
    "print(\"U\",U)\n",
    "print(\"s\",s)\n",
    "print(\"Vh\",Vh)"
   ]
  },
  {
   "cell_type": "code",
   "execution_count": 17,
   "id": "3899828a",
   "metadata": {},
   "outputs": [],
   "source": [
    "num_top_words =3\n",
    "\n",
    "def show_topics(a):\n",
    "    top_words = lambda t: [vocab[i] for i in np.argsort(t)[:-num_top_words-1:-1]]\n",
    "    topic_words = ([top_words(t) for t in a])\n",
    "    return [' '.join(t) for t in topic_words]"
   ]
  },
  {
   "cell_type": "code",
   "execution_count": 18,
   "id": "95b4322d",
   "metadata": {},
   "outputs": [
    {
     "name": "stdout",
     "output_type": "stream",
     "text": [
      "topic 0\n",
      "train apple truck\n",
      "topic 1\n",
      "apple banana grape\n"
     ]
    }
   ],
   "source": [
    "print(\"topic 0\")\n",
    "\n",
    "print('\\n'.join(show_topics(Vh[0:1])))\n",
    "\n",
    "print(\"topic 1\")\n",
    "print('\\n'.join(show_topics(Vh[1:2])))"
   ]
  },
  {
   "cell_type": "markdown",
   "id": "642ffa46",
   "metadata": {},
   "source": [
    "# NMF"
   ]
  },
  {
   "cell_type": "code",
   "execution_count": 19,
   "id": "1c66940f",
   "metadata": {},
   "outputs": [
    {
     "data": {
      "text/plain": [
       "0    apple apple apple apple apple apple apple appl...\n",
       "1    apple apple apple apple apple apple apple appl...\n",
       "2    grape grape grape car car car truck  truck  tr...\n",
       "3    banana  banana  car car truck  truck  truck  t...\n",
       "4          apple apple grape grape train  train  train\n",
       "Name: Text, dtype: object"
      ]
     },
     "execution_count": 19,
     "metadata": {},
     "output_type": "execute_result"
    }
   ],
   "source": [
    "df_text.head()"
   ]
  },
  {
   "cell_type": "code",
   "execution_count": 20,
   "id": "05b2c0cc",
   "metadata": {},
   "outputs": [
    {
     "data": {
      "text/plain": [
       "(5, 6)"
      ]
     },
     "execution_count": 20,
     "metadata": {},
     "output_type": "execute_result"
    }
   ],
   "source": [
    "from sklearn.feature_extraction.text import TfidfVectorizer\n",
    "vectorizer_tfidf = TfidfVectorizer(stop_words='english')\n",
    "vectors_tfidf = vectorizer_tfidf.fit_transform( df_text).todense() # (documents, vocab)\n",
    "vectors_tfidf.shape"
   ]
  },
  {
   "cell_type": "code",
   "execution_count": 21,
   "id": "05efc8fa",
   "metadata": {},
   "outputs": [
    {
     "name": "stdout",
     "output_type": "stream",
     "text": [
      "vocab ['apple' 'banana' 'car' 'grape' 'train' 'truck']\n",
      "vocab shape (6,)\n"
     ]
    }
   ],
   "source": [
    "vocab = np.array(vectorizer_tfidf.get_feature_names())\n",
    "print(\"vocab\",vocab)\n",
    "print(\"vocab shape\",vocab.shape)"
   ]
  },
  {
   "cell_type": "code",
   "execution_count": 22,
   "id": "0910234c",
   "metadata": {},
   "outputs": [],
   "source": [
    "import pandas as pd\n",
    "def get_nmf_topics(vectorizer_tfidf, model, num_topics, n_top_words):\n",
    "    feat_names = vectorizer_tfidf.get_feature_names() #word list\n",
    "    word_dict = {};\n",
    "    for i in range(num_topics):\n",
    "        words_ids = model.components_[i].argsort()[:-n_top_words - 1:-1]\n",
    "        words = [feat_names[key] for key in words_ids]\n",
    "        word_dict['Topic # ' + '{:02d}'.format(i+1)] = words;\n",
    "            \n",
    "    return pd.DataFrame(word_dict);"
   ]
  },
  {
   "cell_type": "code",
   "execution_count": 23,
   "id": "0aa079fe",
   "metadata": {},
   "outputs": [],
   "source": [
    "from sklearn import decomposition\n",
    "\n",
    "d = 2 # num topics\n",
    "clf = decomposition.NMF(n_components=d, random_state=1)"
   ]
  },
  {
   "cell_type": "code",
   "execution_count": 24,
   "id": "f233310d",
   "metadata": {},
   "outputs": [
    {
     "name": "stdout",
     "output_type": "stream",
     "text": [
      "(5, 2)\n",
      "(2, 6)\n"
     ]
    }
   ],
   "source": [
    "W1 = clf.fit_transform(vectors_tfidf)\n",
    "print(W1.shape)\n",
    "H1 = clf.components_\n",
    "print(H1.shape)"
   ]
  },
  {
   "cell_type": "code",
   "execution_count": 25,
   "id": "c0126828",
   "metadata": {},
   "outputs": [
    {
     "data": {
      "text/html": [
       "<div>\n",
       "<style scoped>\n",
       "    .dataframe tbody tr th:only-of-type {\n",
       "        vertical-align: middle;\n",
       "    }\n",
       "\n",
       "    .dataframe tbody tr th {\n",
       "        vertical-align: top;\n",
       "    }\n",
       "\n",
       "    .dataframe thead th {\n",
       "        text-align: right;\n",
       "    }\n",
       "</style>\n",
       "<table border=\"1\" class=\"dataframe\">\n",
       "  <thead>\n",
       "    <tr style=\"text-align: right;\">\n",
       "      <th></th>\n",
       "      <th>Topic # 01</th>\n",
       "      <th>Topic # 02</th>\n",
       "    </tr>\n",
       "  </thead>\n",
       "  <tbody>\n",
       "    <tr>\n",
       "      <th>0</th>\n",
       "      <td>train</td>\n",
       "      <td>apple</td>\n",
       "    </tr>\n",
       "    <tr>\n",
       "      <th>1</th>\n",
       "      <td>truck</td>\n",
       "      <td>grape</td>\n",
       "    </tr>\n",
       "    <tr>\n",
       "      <th>2</th>\n",
       "      <td>car</td>\n",
       "      <td>banana</td>\n",
       "    </tr>\n",
       "    <tr>\n",
       "      <th>3</th>\n",
       "      <td>grape</td>\n",
       "      <td>train</td>\n",
       "    </tr>\n",
       "  </tbody>\n",
       "</table>\n",
       "</div>"
      ],
      "text/plain": [
       "  Topic # 01 Topic # 02\n",
       "0      train      apple\n",
       "1      truck      grape\n",
       "2        car     banana\n",
       "3      grape      train"
      ]
     },
     "execution_count": 25,
     "metadata": {},
     "output_type": "execute_result"
    }
   ],
   "source": [
    "#\n",
    "num_topics = 2\n",
    "n_top_words = 4\n",
    "df2=  get_nmf_topics(vectorizer_tfidf, clf, num_topics, n_top_words)\n",
    "df2.head(10)"
   ]
  },
  {
   "cell_type": "markdown",
   "id": "77a2eca0",
   "metadata": {},
   "source": [
    "NMF的效果似乎比LSI(SVD)要好"
   ]
  },
  {
   "cell_type": "code",
   "execution_count": null,
   "id": "05c1d8ce",
   "metadata": {},
   "outputs": [],
   "source": []
  }
 ],
 "metadata": {
  "kernelspec": {
   "display_name": "Python 3",
   "language": "python",
   "name": "python3"
  },
  "language_info": {
   "codemirror_mode": {
    "name": "ipython",
    "version": 3
   },
   "file_extension": ".py",
   "mimetype": "text/x-python",
   "name": "python",
   "nbconvert_exporter": "python",
   "pygments_lexer": "ipython3",
   "version": "3.8.8"
  }
 },
 "nbformat": 4,
 "nbformat_minor": 5
}
