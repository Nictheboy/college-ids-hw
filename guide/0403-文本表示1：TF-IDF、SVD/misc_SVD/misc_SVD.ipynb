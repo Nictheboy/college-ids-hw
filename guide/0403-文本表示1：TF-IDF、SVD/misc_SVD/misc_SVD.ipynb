{
 "cells": [
  {
   "cell_type": "markdown",
   "id": "f4a4ff1c",
   "metadata": {},
   "source": [
    "# SVD题目素材"
   ]
  },
  {
   "cell_type": "code",
   "execution_count": 1,
   "id": "6d519f43",
   "metadata": {},
   "outputs": [
    {
     "name": "stdout",
     "output_type": "stream",
     "text": [
      "u [[-0.351  0.338 -0.214 -0.845  0.04 ]\n",
      " [-0.606  0.617  0.125  0.473  0.114]\n",
      " [-0.232 -0.068  0.114 -0.005 -0.964]\n",
      " [-0.516 -0.557  0.59  -0.147  0.233]\n",
      " [-0.435 -0.436 -0.76   0.201  0.045]]\n",
      "s [11.055  8.794  2.648  1.564]\n",
      "vh [[-0.469 -0.539 -0.581 -0.39 ]\n",
      " [ 0.434  0.549 -0.587 -0.407]\n",
      " [ 0.178 -0.157  0.543 -0.806]\n",
      " [-0.749  0.619  0.153 -0.183]]\n",
      "usvh [[ 4.  3. -0.  1.]\n",
      " [ 5.  7.  1. -0.]\n",
      " [ 1.  1.  2.  1.]\n",
      " [ 1. -0.  7.  3.]\n",
      " [-0.  1.  4.  5.]]\n",
      "\n",
      "a [[4 3 0 1]\n",
      " [5 7 1 0]\n",
      " [1 1 2 1]\n",
      " [1 0 7 3]\n",
      " [0 1 4 5]]\n"
     ]
    }
   ],
   "source": [
    "#2021-06-10 SVD\n",
    "\n",
    "from numpy.linalg import svd\n",
    "import numpy as np\n",
    "np.set_printoptions(precision=3, suppress=True)\n",
    "\n",
    "a = [[4,3,0,1],[5,7,1,0],[1,1,2,1],[1,0,7,3],[0,1,4,5]]\n",
    "a = np.asarray(a)\n",
    "u, s, vh = np.linalg.svd(a) \n",
    "\n",
    "print(\"u\",u)\n",
    "print(\"s\",s)\n",
    "print(\"vh\",vh)\n",
    "\n",
    "s=[ [11.055, 0, 0, 0],\n",
    "    [0, 8.794, 0, 0],\n",
    "    [0, 0, 2.648, 0],\n",
    "    [0, 0, 0, 1.564],\n",
    "  [0, 0, 0, 0]]\n",
    "s = np.asarray(s)\n",
    "us = np.dot(u, s)   # 相当于 m * n\n",
    "usvh = np.dot(us, vh)\n",
    "print(\"usvh\",usvh)\n",
    "\n",
    "print(\"\")\n",
    "print(\"a\",a)\n"
   ]
  },
  {
   "cell_type": "markdown",
   "id": "6497fb22",
   "metadata": {},
   "source": [
    "# SVD题目素材2"
   ]
  },
  {
   "cell_type": "code",
   "execution_count": 2,
   "id": "8af33bbc",
   "metadata": {},
   "outputs": [
    {
     "name": "stdout",
     "output_type": "stream",
     "text": [
      "u [[-0.369 -0.313  0.212  0.684 -0.502]\n",
      " [-0.633 -0.573 -0.145 -0.492  0.092]\n",
      " [-0.225 -0.032  0.021  0.479  0.847]\n",
      " [-0.489  0.594 -0.615  0.092 -0.144]\n",
      " [-0.416  0.469  0.745 -0.228  0.017]]\n",
      "s [11.039  8.775  2.63   1.797]\n",
      "vh [[-0.56  -0.506 -0.375 -0.539]\n",
      " [-0.515 -0.409  0.431  0.618]\n",
      " [ 0.147 -0.171  0.803 -0.551]\n",
      " [-0.633  0.74   0.168 -0.154]]\n",
      "usvh [[3. 4. 1. 0.]\n",
      " [7. 5. 0. 1.]\n",
      " [1. 2. 1. 1.]\n",
      " [0. 1. 3. 7.]\n",
      " [1. 0. 5. 4.]]\n",
      "\n",
      "a [[3 4 1 0]\n",
      " [7 5 0 1]\n",
      " [1 2 1 1]\n",
      " [0 1 3 7]\n",
      " [1 0 5 4]]\n"
     ]
    }
   ],
   "source": [
    "#2021-06-10\n",
    "\n",
    "from numpy.linalg import svd\n",
    "import numpy as np\n",
    "np.set_printoptions(precision=3, suppress=True)\n",
    "\n",
    "a = [[3,4,1,0],[7,5,0,1],[1,2,1,1],[0,1,3,7],[1,0,5,4]]\n",
    "a = np.asarray(a)\n",
    "u, s, vh = np.linalg.svd(a) \n",
    "\n",
    "print(\"u\",u)\n",
    "print(\"s\",s)\n",
    "print(\"vh\",vh)\n",
    "\n",
    "s=[ [11.039, 0, 0, 0],\n",
    "    [0, 8.775, 0, 0],\n",
    "    [0, 0, 2.63, 0],\n",
    "    [0, 0, 0, 1.797],\n",
    "  [0, 0, 0, 0]]\n",
    "s = np.asarray(s)\n",
    "us = np.dot(u, s)   # 相当于 m * n\n",
    "usvh = np.dot(us, vh)\n",
    "print(\"usvh\",usvh)\n",
    "\n",
    "print(\"\")\n",
    "print(\"a\",a)"
   ]
  },
  {
   "cell_type": "markdown",
   "id": "532e7eb9",
   "metadata": {},
   "source": [
    "# SVD题目素材3"
   ]
  },
  {
   "cell_type": "code",
   "execution_count": 3,
   "id": "d71805f9",
   "metadata": {},
   "outputs": [
    {
     "name": "stdout",
     "output_type": "stream",
     "text": [
      "u [[-0.542  0.065  0.822  0.106 -0.124]\n",
      " [-0.102 -0.593 -0.113  0.788  0.06 ]\n",
      " [-0.525  0.059 -0.213 -0.116  0.814]\n",
      " [-0.645  0.07  -0.509 -0.06  -0.563]\n",
      " [-0.064 -0.797  0.09  -0.592 -0.044]]\n",
      "s [17.918 15.171  3.564  1.984  0.35 ]\n",
      "vh [[-0.465 -0.07  -0.735 -0.484 -0.065]\n",
      " [ 0.022 -0.76   0.099  0.025 -0.642]\n",
      " [-0.869  0.063  0.284  0.399 -0.044]\n",
      " [ 0.001 -0.601 -0.223  0.333  0.691]\n",
      " [-0.171 -0.228  0.565 -0.704  0.323]]\n"
     ]
    }
   ],
   "source": [
    "from numpy.linalg import svd\n",
    "import numpy as np\n",
    "np.set_printoptions(precision=3, suppress=True)\n",
    "\n",
    "a = [[2,0,8,6,0],[1,6,0,1,7],[5,0,7,4,0],[7,0,8,5,0],[0,10,0,0,7]]\n",
    "a = np.asarray(a)\n",
    "u, s, vh = np.linalg.svd(a) \n",
    "\n",
    "print(\"u\",u)\n",
    "print(\"s\",s)\n",
    "print(\"vh\",vh)"
   ]
  },
  {
   "cell_type": "code",
   "execution_count": 4,
   "id": "be4e5eeb",
   "metadata": {},
   "outputs": [
    {
     "name": "stdout",
     "output_type": "stream",
     "text": [
      "usvh [[ 1.999 -0.002  7.996  5.995  0.001]\n",
      " [ 1.     5.995  0.002  1.005  6.999]\n",
      " [ 5.005  0.004  6.999  3.995  0.003]\n",
      " [ 7.007  0.004  8.     4.995  0.003]\n",
      " [-0.01   9.999 -0.01   0.     7.006]]\n",
      "\n",
      "a [[ 2  0  8  6  0]\n",
      " [ 1  6  0  1  7]\n",
      " [ 5  0  7  4  0]\n",
      " [ 7  0  8  5  0]\n",
      " [ 0 10  0  0  7]]\n"
     ]
    }
   ],
   "source": [
    "u=[[-0.542,  0.065,  0.822,  0.106, -0.124],\n",
    " [-0.102, -0.593, -0.113,  0.788,  0.06 ],\n",
    " [-0.525,  0.059, -0.213, -0.116,  0.814],\n",
    " [-0.645,  0.07,  -0.509, -0.06,  -0.563],\n",
    " [-0.064, -0.797,  0.09,  -0.592, -0.044]]\n",
    "u = np.asarray(u)\n",
    "#[17.918 15.171  3.564  1.984  0.35 ]\n",
    "s=[ [17.918, 0, 0, 0,0],\n",
    "    [0, 15.171, 0, 0,0],\n",
    "    [0, 0, 3.564, 0,0],\n",
    "    [0, 0, 0, 1.984,0],\n",
    "    [0, 0, 0, 0,0.35]]\n",
    "s = np.asarray(s)\n",
    "\n",
    "vh=[[-0.465, -0.07,  -0.735, -0.484, -0.065],\n",
    " [ 0.022, -0.76,   0.099,  0.025, -0.642],\n",
    " [-0.869,  0.063 , 0.284,  0.399, -0.044],\n",
    " [ 0.001, -0.601, -0.223,  0.333,  0.691],\n",
    " [-0.171, -0.228,  0.565, -0.704,  0.323]]\n",
    "vh= np.asarray(vh)\n",
    "\n",
    "us = np.dot(u, s)   # 相当于 m * n\n",
    "usvh = np.dot(us, vh)\n",
    "print(\"usvh\",usvh)\n",
    "\n",
    "print(\"\")\n",
    "print(\"a\",a)"
   ]
  },
  {
   "cell_type": "code",
   "execution_count": 5,
   "id": "0242ee00",
   "metadata": {},
   "outputs": [],
   "source": [
    "#K=3"
   ]
  },
  {
   "cell_type": "code",
   "execution_count": 6,
   "id": "e1c0a805",
   "metadata": {},
   "outputs": [
    {
     "name": "stdout",
     "output_type": "stream",
     "text": [
      "usvh [[ 1.992  0.115  8.068  5.894 -0.131]\n",
      " [ 1.002  6.94   0.338  0.499  5.912]\n",
      " [ 5.054 -0.07   6.787  4.272  0.07 ]\n",
      " [ 6.974 -0.112  8.084  4.896  0.149]\n",
      " [-0.012  9.29  -0.263  0.381  7.823]]\n",
      "\n",
      "a [[ 2  0  8  6  0]\n",
      " [ 1  6  0  1  7]\n",
      " [ 5  0  7  4  0]\n",
      " [ 7  0  8  5  0]\n",
      " [ 0 10  0  0  7]]\n"
     ]
    }
   ],
   "source": [
    "u=[[-0.542,  0.065,  0.822 ],\n",
    " [-0.102, -0.593, -0.113  ],\n",
    " [-0.525,  0.059, -0.213 ],\n",
    " [-0.645,  0.07,  -0.509 ],\n",
    " [-0.064, -0.797,  0.09 ]]\n",
    "u = np.asarray(u)\n",
    "#[17.918 15.171  3.564  1.984  0.35 ]\n",
    "s=[ [17.918, 0, 0],\n",
    "    [0, 15.171, 0],\n",
    "    [0, 0, 3.564]]\n",
    "s = np.asarray(s)\n",
    "\n",
    "vh=[[-0.465, -0.07,  -0.735, -0.484, -0.065],\n",
    " [ 0.022, -0.76,   0.099,  0.025, -0.642],\n",
    " [-0.869,  0.063 , 0.284,  0.399, -0.044]]\n",
    "vh= np.asarray(vh)\n",
    "\n",
    "us = np.dot(u, s)   # 相当于 m * n\n",
    "usvh = np.dot(us, vh)\n",
    "print(\"usvh\",usvh)\n",
    "\n",
    "print(\"\")\n",
    "print(\"a\",a)"
   ]
  },
  {
   "cell_type": "markdown",
   "id": "dbbdc6b6",
   "metadata": {},
   "source": [
    "# misc"
   ]
  },
  {
   "cell_type": "code",
   "execution_count": 7,
   "id": "1c0d6052",
   "metadata": {},
   "outputs": [
    {
     "name": "stdout",
     "output_type": "stream",
     "text": [
      "[[0.305 0.017]\n",
      " [0.017 0.183]]\n",
      "[[0.305 0.017]\n",
      " [0.017 0.183]]\n"
     ]
    }
   ],
   "source": [
    "import numpy as np\n",
    "\n",
    "a  = np.array([[3.3, -0.3], [-0.3, 5.5]]) \n",
    "print(np.linalg.inv(a)) \n",
    "\n",
    "A = np.matrix(a)\n",
    "print(A.I)"
   ]
  },
  {
   "cell_type": "code",
   "execution_count": 8,
   "id": "5d76e6a7",
   "metadata": {},
   "outputs": [
    {
     "name": "stdout",
     "output_type": "stream",
     "text": [
      "[4 6]\n"
     ]
    }
   ],
   "source": [
    "import numpy as np\n",
    "\n",
    "a  = np.array([[1, 2], [3, 4]]) \n",
    "print( a.sum( axis=0))"
   ]
  },
  {
   "cell_type": "code",
   "execution_count": 9,
   "id": "a5ee318b",
   "metadata": {},
   "outputs": [
    {
     "name": "stdout",
     "output_type": "stream",
     "text": [
      "[[ 3.3 -0.3]\n",
      " [-0.3  5.5]]\n",
      "[[ 3.3 -0.3]\n",
      " [-0.3  5.5]]\n"
     ]
    }
   ],
   "source": [
    "import numpy as np\n",
    "a  = np.array([[3.3, -0.3], [-0.3, 5.5]]) \n",
    "print(a)\n",
    "\n",
    "np.savez('data.npz', kw=a)\n",
    "data = np.load('data.npz')\n",
    "a = data['kw']\n",
    "print(a)"
   ]
  },
  {
   "cell_type": "code",
   "execution_count": 10,
   "id": "62f084b5",
   "metadata": {},
   "outputs": [],
   "source": [
    "from PIL import Image\n",
    "import numpy as np\n",
    "\n",
    "w, h = 512, 512\n",
    "data = np.zeros((h, w, 3), dtype=np.uint8)\n",
    "data[256, 256] = [255, 0, 0]\n",
    "img = Image.fromarray(data, 'RGB')\n",
    "img.save('my.png')\n",
    "img.show()"
   ]
  },
  {
   "cell_type": "code",
   "execution_count": null,
   "id": "9581070b",
   "metadata": {},
   "outputs": [],
   "source": []
  }
 ],
 "metadata": {
  "kernelspec": {
   "display_name": "Python 3",
   "language": "python",
   "name": "python3"
  },
  "language_info": {
   "codemirror_mode": {
    "name": "ipython",
    "version": 3
   },
   "file_extension": ".py",
   "mimetype": "text/x-python",
   "name": "python",
   "nbconvert_exporter": "python",
   "pygments_lexer": "ipython3",
   "version": "3.8.8"
  }
 },
 "nbformat": 4,
 "nbformat_minor": 5
}
