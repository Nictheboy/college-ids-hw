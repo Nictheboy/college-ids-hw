{
 "cells": [
  {
   "cell_type": "markdown",
   "id": "5381d239",
   "metadata": {},
   "source": [
    "# SVD romeo juliet"
   ]
  },
  {
   "cell_type": "code",
   "execution_count": 1,
   "id": "cbf52768",
   "metadata": {},
   "outputs": [],
   "source": [
    "from numpy.linalg import svd\n",
    "import numpy as np\n",
    "\n",
    "np.set_printoptions(formatter={'float': '{: 0.3f}'.format})"
   ]
  },
  {
   "cell_type": "code",
   "execution_count": 2,
   "id": "daddb953",
   "metadata": {},
   "outputs": [
    {
     "name": "stdout",
     "output_type": "stream",
     "text": [
      "u [[-0.396  0.280 -0.571  0.450 -0.102 -0.078  0.280  0.376]\n",
      " [-0.314  0.450  0.411  0.513  0.204  0.078 -0.280 -0.376]\n",
      " [-0.178  0.269  0.497 -0.257  0.043  0.414  0.243  0.591]\n",
      " [-0.438  0.369  0.013 -0.577 -0.220 -0.493  0.037 -0.215]\n",
      " [-0.264 -0.346  0.146  0.047  0.417 -0.491 -0.404  0.456]\n",
      " [-0.524 -0.246 -0.339 -0.273  0.155  0.571 -0.317 -0.161]\n",
      " [-0.264 -0.346  0.146  0.047  0.417 -0.079  0.721 -0.295]\n",
      " [-0.326 -0.460  0.317  0.237 -0.725  0.000  0.000  0.000]]\n",
      "s [[ 2.285  0.000  0.000  0.000  0.000]\n",
      " [ 0.000  2.010  0.000  0.000  0.000]\n",
      " [ 0.000  0.000  1.361  0.000  0.000]\n",
      " [ 0.000  0.000  0.000  1.118  0.000]\n",
      " [ 0.000  0.000  0.000  0.000  0.797]\n",
      " [ 0.000  0.000  0.000  0.000  0.000]\n",
      " [ 0.000  0.000  0.000  0.000  0.000]\n",
      " [ 0.000  0.000  0.000  0.000  0.000]]\n",
      "vh [[-0.311 -0.407 -0.594 -0.603 -0.143]\n",
      " [ 0.363  0.541  0.200 -0.695 -0.229]\n",
      " [-0.118  0.677 -0.659  0.198  0.233]\n",
      " [ 0.861 -0.287 -0.358  0.053  0.212]\n",
      " [ 0.128  0.034 -0.209  0.333 -0.910]]\n"
     ]
    }
   ],
   "source": [
    "\n",
    "a = [[1,0,1,0,0],\n",
    "     [1,1,0,0,0],\n",
    "     [0,1,0,0,0],\n",
    "     [0,1,1,0,0],\n",
    "     [0,0,0,1,0],\n",
    "    [0,0,1,1,0],\n",
    "    [0,0,0,1,0],\n",
    "    [0,0,0,1,1]]\n",
    "a = np.asarray(a)\n",
    "u, s, vh = np.linalg.svd(a) \n",
    "\n",
    "snew = [[s[0],0,0,0,0],\n",
    "     [0,s[1],0,0,0],\n",
    "     [0,0,s[2],0,0],\n",
    "     [0,0,0,s[3],0],\n",
    "     [0,0,0,0,s[4]],\n",
    "    [0,0,0,0,0],\n",
    "    [0,0,0,0,0],\n",
    "    [0,0,0,0,0]]\n",
    "snew = np.asarray(snew)\n",
    "print(\"u\",u)\n",
    "print(\"s\",snew)\n",
    "print(\"vh\",vh)"
   ]
  },
  {
   "cell_type": "code",
   "execution_count": 3,
   "id": "84091b22",
   "metadata": {},
   "outputs": [
    {
     "name": "stdout",
     "output_type": "stream",
     "text": [
      "u [[-0.396  0.280 -0.571  0.450 -0.102 -0.078  0.280  0.376]\n",
      " [-0.314  0.450  0.411  0.513  0.204  0.078 -0.280 -0.376]\n",
      " [-0.178  0.269  0.497 -0.257  0.043  0.414  0.243  0.591]\n",
      " [-0.438  0.369  0.013 -0.577 -0.220 -0.493  0.037 -0.215]\n",
      " [-0.264 -0.346  0.146  0.047  0.417 -0.491 -0.404  0.456]\n",
      " [-0.524 -0.246 -0.339 -0.273  0.155  0.571 -0.317 -0.161]\n",
      " [-0.264 -0.346  0.146  0.047  0.417 -0.079  0.721 -0.295]\n",
      " [-0.326 -0.460  0.317  0.237 -0.725  0.000  0.000  0.000]]\n",
      "snew [[ 2.285  0.000  0.000  0.000  0.000]\n",
      " [ 0.000  2.010  0.000  0.000  0.000]\n",
      " [ 0.000  0.000  1.361  0.000  0.000]\n",
      " [ 0.000  0.000  0.000  1.118  0.000]\n",
      " [ 0.000  0.000  0.000  0.000  0.797]\n",
      " [ 0.000  0.000  0.000  0.000  0.000]\n",
      " [ 0.000  0.000  0.000  0.000  0.000]\n",
      " [ 0.000  0.000  0.000  0.000  0.000]]\n",
      "vh [[-0.311 -0.407 -0.594 -0.603 -0.143]\n",
      " [ 0.363  0.541  0.200 -0.695 -0.229]\n",
      " [-0.118  0.677 -0.659  0.198  0.233]\n",
      " [ 0.861 -0.287 -0.358  0.053  0.212]\n",
      " [ 0.128  0.034 -0.209  0.333 -0.910]]\n",
      "\n",
      "usvh [[ 1.000 -0.000  1.000 -0.000 -0.000]\n",
      " [ 1.000  1.000 -0.000 -0.000  0.000]\n",
      " [ 0.000  1.000 -0.000 -0.000  0.000]\n",
      " [-0.000  1.000  1.000  0.000 -0.000]\n",
      " [-0.000  0.000 -0.000  1.000  0.000]\n",
      " [-0.000 -0.000  1.000  1.000 -0.000]\n",
      " [-0.000  0.000 -0.000  1.000  0.000]\n",
      " [-0.000 -0.000  0.000  1.000  1.000]]\n"
     ]
    }
   ],
   "source": [
    "print(\"u\",u)\n",
    "print(\"snew\",snew)\n",
    "print(\"vh\",vh)\n",
    "print(\"\")\n",
    "us = np.dot(u, snew)   # 相当于 m * n\n",
    "usvh = np.dot(us, vh)\n",
    "print(\"usvh\",usvh)"
   ]
  },
  {
   "cell_type": "code",
   "execution_count": 4,
   "id": "53aaa5c2",
   "metadata": {},
   "outputs": [
    {
     "name": "stdout",
     "output_type": "stream",
     "text": [
      "u2 [[-0.396  0.280]\n",
      " [-0.314  0.450]\n",
      " [-0.178  0.269]\n",
      " [-0.438  0.369]\n",
      " [-0.264 -0.346]\n",
      " [-0.524 -0.246]\n",
      " [-0.264 -0.346]\n",
      " [-0.326 -0.460]]\n",
      "s2 [[ 2.285  0.000]\n",
      " [ 0.000  2.010]]\n",
      "vh2 [[-0.311 -0.407 -0.594 -0.603 -0.143]\n",
      " [ 0.363  0.541  0.200 -0.695 -0.229]]\n"
     ]
    }
   ],
   "source": [
    "u2 = u[:,0:2]\n",
    "print(\"u2\",u2)\n",
    "\n",
    "s2 = [ [s[0],0],[0,s[1]]]\n",
    "s2 = np.asarray(s2)\n",
    "print(\"s2\",s2)\n",
    "\n",
    "vh2 = vh[0:2,:]\n",
    "print(\"vh2\",vh2)"
   ]
  },
  {
   "cell_type": "code",
   "execution_count": 5,
   "id": "23a7ca36",
   "metadata": {},
   "outputs": [
    {
     "name": "stdout",
     "output_type": "stream",
     "text": [
      "words [[-0.905  0.563]\n",
      " [-0.718  0.904]\n",
      " [-0.407  0.541]\n",
      " [-1.002  0.741]\n",
      " [-0.603 -0.695]\n",
      " [-1.198 -0.495]\n",
      " [-0.603 -0.695]\n",
      " [-0.746 -0.924]]\n"
     ]
    }
   ],
   "source": [
    "words =  np.dot(u2, s2)\n",
    "print(\"words\",words)"
   ]
  },
  {
   "cell_type": "code",
   "execution_count": 6,
   "id": "7195abde",
   "metadata": {},
   "outputs": [
    {
     "name": "stdout",
     "output_type": "stream",
     "text": [
      "docs [[-0.710 -0.931 -1.359 -1.378 -0.326]\n",
      " [ 0.730  1.087  0.402 -1.398 -0.460]]\n"
     ]
    }
   ],
   "source": [
    "docs = np.dot(s2, vh2)\n",
    "print(\"docs\",docs)"
   ]
  },
  {
   "cell_type": "code",
   "execution_count": 7,
   "id": "39cc6599",
   "metadata": {},
   "outputs": [
    {
     "name": "stdout",
     "output_type": "stream",
     "text": [
      "d2 [[-0.710]\n",
      " [ 0.730]]\n",
      "d2 [[-0.931]\n",
      " [ 1.087]]\n",
      "d2 [[-1.359]\n",
      " [ 0.402]]\n",
      "d2 [[-1.378]\n",
      " [-1.398]]\n",
      "d2 [[-0.326]\n",
      " [-0.460]]\n"
     ]
    }
   ],
   "source": [
    "for i in range(5):\n",
    "    onedoc = a[:,i]\n",
    "    #print(\"onedoc\",onedoc)\n",
    "    d2 = np.dot( u2.T, onedoc)\n",
    "    d2 = d2.reshape(2,1)\n",
    "    print(\"d2\",d2)"
   ]
  },
  {
   "cell_type": "code",
   "execution_count": 8,
   "id": "e5affcf1",
   "metadata": {},
   "outputs": [
    {
     "name": "stdout",
     "output_type": "stream",
     "text": [
      "q [[0]\n",
      " [0]\n",
      " [0]\n",
      " [1]\n",
      " [0]\n",
      " [1]\n",
      " [0]\n",
      " [0]]\n",
      "q2 [[-0.962]\n",
      " [ 0.122]]\n"
     ]
    }
   ],
   "source": [
    "q = [[0],\n",
    "    [0],\n",
    "    [0],\n",
    "    [1],#dagger\n",
    "    [0],\n",
    "    [1],#die\n",
    "    [0],\n",
    "    [0]]\n",
    "q = np.asarray(q)\n",
    "print(\"q\",q)\n",
    "\n",
    "#S S-1 UT q\n",
    "q2 = np.dot( u2.T, q)\n",
    "print(\"q2\",q2)"
   ]
  },
  {
   "cell_type": "code",
   "execution_count": 9,
   "id": "a358d072",
   "metadata": {
    "scrolled": true
   },
   "outputs": [
    {
     "name": "stdout",
     "output_type": "stream",
     "text": [
      "x [ 0  8  5  3 13  1  6 12  9  2  4 10 14  7 11 15]\n",
      "index_list [ 0  5  9  3 10  2  6 13  1  8 11 14  7  4 12 15]\n"
     ]
    }
   ],
   "source": [
    "x = np.arange(16)\n",
    "np.random.shuffle(x) \n",
    "print(\"x\",x)  # array([ 5, 13,  0, 10,  2, 14,  1,  3, 11,  8, 12,  9,  7,  4,  6, 15])\n",
    "index_list = np.argsort(x)   # array([ 2,  6,  4,  7, 13,  0, 14, 12,  9, 11,  3,  8, 10,  1,  5, 15],dtype=int64)\n",
    "print(\"index_list\",index_list) "
   ]
  },
  {
   "cell_type": "code",
   "execution_count": 10,
   "id": "fc4b2bfc",
   "metadata": {},
   "outputs": [
    {
     "name": "stdout",
     "output_type": "stream",
     "text": [
      "cos_0 [ 0.782]\n",
      "cos_1 [ 0.741]\n",
      "cos_2 [ 0.987]\n",
      "cos_3 [ 0.607]\n",
      "cos_4 [ 0.472]\n",
      "cos_list [ 0.782  0.741  0.987  0.607  0.472]\n",
      "from most similar to least [3 1 2 4 5]\n",
      "\n",
      "degree_list [ 38.532  42.194  9.259  52.639  61.856]\n"
     ]
    }
   ],
   "source": [
    "def cos_two_docs( d,q):\n",
    "    cos_ab =  d.dot(q) / (np.linalg.norm(d) * np.linalg.norm(q))\n",
    "    return cos_ab\n",
    "\n",
    "cos_0 = cos_two_docs(docs[:,0],q2)\n",
    "print(\"cos_0\",cos_0)\n",
    "cos_1 = cos_two_docs(docs[:,1],q2)\n",
    "print(\"cos_1\",cos_1)\n",
    "cos_2 = cos_two_docs(docs[:,2],q2)\n",
    "print(\"cos_2\",cos_2)\n",
    "cos_3 = cos_two_docs(docs[:,3],q2)\n",
    "print(\"cos_3\",cos_3)\n",
    "cos_4 = cos_two_docs(docs[:,4],q2)\n",
    "print(\"cos_4\",cos_4)\n",
    "\n",
    "cos_list = [cos_0,cos_1,cos_2,cos_3,cos_4]\n",
    "cos_list = np.asarray( cos_list)\n",
    "cos_list=cos_list.flatten()\n",
    "print(\"cos_list\",cos_list)\n",
    "out = np.argsort(-cos_list)\n",
    "out = out+1\n",
    "print(\"from most similar to least\", out)\n",
    "\n",
    "degree_list = np.arccos(cos_list)\n",
    "degree_list=degree_list*180/3.1415926\n",
    "print(\"\")\n",
    "print(\"degree_list\", degree_list)\n"
   ]
  },
  {
   "cell_type": "code",
   "execution_count": 11,
   "id": "4377459e",
   "metadata": {},
   "outputs": [
    {
     "name": "stdout",
     "output_type": "stream",
     "text": [
      "xmin -1.3781392117624447\n",
      "xmax -0.32637322406512886\n",
      "ymin -1.3979162871983264\n",
      "ymax 1.0870319849423495\n"
     ]
    },
    {
     "data": {
      "image/png": "[encoded data removed]",
      "text/plain": [
       "<Figure size 864x576 with 1 Axes>"
      ]
     },
     "metadata": {
      "needs_background": "light"
     },
     "output_type": "display_data"
    }
   ],
   "source": [
    "import numpy as np\n",
    "import matplotlib.pyplot as plt\n",
    "\n",
    "plt.rcParams['font.sans-serif']=['SimHei']\n",
    "plt.rcParams['axes.unicode_minus']=False \n",
    "#\n",
    "X=docs[0,:]\n",
    "Y=docs[1,:]\n",
    "xmin = X.min()\n",
    "xmax = X.max()\n",
    "ymin = Y.min()\n",
    "ymax = Y.max()\n",
    "print(\"xmin\",xmin)\n",
    "print(\"xmax\",xmax)\n",
    "print(\"ymin\",ymin)\n",
    "print(\"ymax\",ymax)\n",
    "\n",
    "annotations=[\"d1\",\"d2\",\"d3\",\"d4\",\"d5\"]\n",
    "\n",
    "plt.figure(figsize=(12,8))\n",
    "plt.scatter(X,Y,s=100,color=\"red\")\n",
    "for i, label in enumerate(annotations):\n",
    "    plt.annotate(label, (X[i]+0.05, Y[i]+0.05), fontsize=20)\n",
    "\n",
    "for i in range(5):\n",
    "    plt.arrow(0, 0, docs[0,i], docs[1,i], width = 0.005,length_includes_head=True) \n",
    "#\n",
    "\n",
    "annotations_2=[\"romeo\",\"juliet\",\"happy\",\"dagger\",\"live\",\"die\",\"free\",\"new-hampshire\"]\n",
    "\n",
    "X=words[:,0]\n",
    "Y=words[:,1]\n",
    "X=X.flatten()\n",
    "Y=Y.flatten()\n",
    "plt.scatter(X,Y,s=100,color=\"blue\")\n",
    "for i, label in enumerate(annotations_2):\n",
    "    if (i==6):\n",
    "        plt.annotate(label, (X[i]+0.05+0.1, Y[i]+0.05),fontsize=20)\n",
    "    else:\n",
    "        plt.annotate(label, (X[i]+0.05, Y[i]+0.05),fontsize=20)\n",
    "\n",
    "plt.scatter(q2[0,:],q2[1,:],s=100,color=\"green\")\n",
    "plt.arrow(0, 0, q2[0,0], q2[1,0], width = 0.005,length_includes_head=True) \n",
    "plt.annotate(\"query\", (q2[0,0]+0.05, q2[1,0]+0.05),fontsize=20)\n",
    "#\n",
    "plt.xticks(fontsize=16)\n",
    "plt.yticks(fontsize=16)\n",
    "plt.xlabel(\"X\",fontsize=16)\n",
    "plt.ylabel(\"Y\",fontsize=16)\n",
    "\n",
    "plt.xlim([xmin-0.2, 0])\n",
    "plt.ylim([ymin-0.2, ymax+0.2])\n",
    "plt.title(\"Scatter Plot of documents/query & words\",fontsize=16)\n",
    "\n",
    "plt.show()"
   ]
  },
  {
   "cell_type": "markdown",
   "id": "6621da68",
   "metadata": {},
   "source": [
    "# 1 svd example"
   ]
  },
  {
   "cell_type": "code",
   "execution_count": 12,
   "id": "b74c7cf4",
   "metadata": {},
   "outputs": [
    {
     "name": "stdout",
     "output_type": "stream",
     "text": [
      "u [[ 0.408  0.707  0.577]\n",
      " [ 0.816  0.000 -0.577]\n",
      " [ 0.408 -0.707  0.577]]\n",
      "s [[ 1.732  0.000]\n",
      " [ 0.000  1.000]\n",
      " [ 0.000  0.000]]\n",
      "vh [[ 0.707  0.707]\n",
      " [-0.707  0.707]]\n",
      "usvh [[ 0.000  1.000]\n",
      " [ 1.000  1.000]\n",
      " [ 1.000  0.000]]\n"
     ]
    }
   ],
   "source": [
    "import numpy as np\n",
    "\n",
    "u=[[1/np.sqrt(6),1/np.sqrt(2),1/np.sqrt(3)],\n",
    "   [2/np.sqrt(6),0,-1/np.sqrt(3)],\n",
    "   [1/np.sqrt(6),-1/np.sqrt(2),1/np.sqrt(3)]]\n",
    "u = np.asarray(u)\n",
    "\n",
    "s=[[np.sqrt(3),0],\n",
    "   [0,1],\n",
    "   [0,0]]\n",
    "s = np.asarray(s)\n",
    "\n",
    "vh=[[1/np.sqrt(2),1/np.sqrt(2) ],\n",
    "    [-1/np.sqrt(2),1/np.sqrt(2)]]\n",
    "vh= np.asarray(vh)\n",
    "\n",
    "print(\"u\",u)\n",
    "print(\"s\",s)\n",
    "print(\"vh\",vh)\n",
    "\n",
    "us = np.dot(u, s)   # 相当于 m * n\n",
    "usvh = np.dot(us, vh)\n",
    "print(\"usvh\",usvh)\n"
   ]
  },
  {
   "cell_type": "code",
   "execution_count": 13,
   "id": "80d881f4",
   "metadata": {},
   "outputs": [
    {
     "name": "stdout",
     "output_type": "stream",
     "text": [
      "\n",
      "a [[ 0.000  1.000]\n",
      " [ 1.000  1.000]\n",
      " [ 1.000  0.000]]\n",
      "u [[-0.408  0.707  0.577]\n",
      " [-0.816  0.000 -0.577]\n",
      " [-0.408 -0.707  0.577]]\n",
      "s [[ 1.732  0.000]\n",
      " [ 0.000  1.000]\n",
      " [ 0.000  0.000]]\n",
      "vh [[-0.707 -0.707]\n",
      " [-0.707  0.707]]\n",
      "\n",
      "usvh [[ 0.000  1.000]\n",
      " [ 1.000  1.000]\n",
      " [ 1.000 -0.000]]\n"
     ]
    }
   ],
   "source": [
    "\n",
    "a = [[ 0.000,  1.000],\n",
    " [ 1.000,  1.000],\n",
    " [ 1.000, 0.000]]\n",
    "a = np.asarray(a)\n",
    "print(\"\")\n",
    "print(\"a\",a)\n",
    "u, s, vh = np.linalg.svd(a) \n",
    "\n",
    "snew = [[s[0],0], [0,s[1]], [0,0]]\n",
    "snew= np.asarray(snew)\n",
    "s = snew\n",
    "print(\"u\",u)\n",
    "print(\"s\",s)\n",
    "print(\"vh\",vh)\n",
    "\n",
    "print(\"\")\n",
    "us = np.dot(u, s)   # 相当于 m * n\n",
    "usvh = np.dot(us, vh)\n",
    "print(\"usvh\",usvh)"
   ]
  },
  {
   "cell_type": "markdown",
   "id": "5a2a446d",
   "metadata": {},
   "source": [
    "# 2 svd example"
   ]
  },
  {
   "cell_type": "code",
   "execution_count": 14,
   "id": "7ac26747",
   "metadata": {},
   "outputs": [
    {
     "name": "stdout",
     "output_type": "stream",
     "text": [
      "u [[ 0.365  0.447  0.816]\n",
      " [ 0.913  0.000  0.408]\n",
      " [ 0.183 -0.894 -0.408]]\n",
      "s [[ 2.449  0.000]\n",
      " [ 0.000  1.000]\n",
      " [ 0.000  0.000]]\n",
      "vh [[ 0.894  0.447]\n",
      " [-0.447  0.894]]\n",
      "usvh [[ 0.600  0.800]\n",
      " [ 2.000  1.000]\n",
      " [ 0.800 -0.600]]\n"
     ]
    }
   ],
   "source": [
    "import numpy as np\n",
    "\n",
    "u=[[2/np.sqrt(30),1/np.sqrt(5),2/np.sqrt(6)],\n",
    "   [5/np.sqrt(30),0,1/np.sqrt(6)],\n",
    "   [1/np.sqrt(30),-2/np.sqrt(5),-1/np.sqrt(6)]]\n",
    "u = np.asarray(u)\n",
    "\n",
    "s=[[np.sqrt(6),0],\n",
    "   [0,1],\n",
    "   [0,0]]\n",
    "s = np.asarray(s)\n",
    "\n",
    "vh=[[2/np.sqrt(5),1/np.sqrt(5) ],\n",
    "    [-1/np.sqrt(5),2/np.sqrt(5)]]\n",
    "vh= np.asarray(vh)\n",
    "\n",
    "print(\"u\",u)\n",
    "print(\"s\",s)\n",
    "print(\"vh\",vh)\n",
    "\n",
    "us = np.dot(u, s)   # 相当于 m * n\n",
    "usvh = np.dot(us, vh)\n",
    "print(\"usvh\",usvh)"
   ]
  },
  {
   "cell_type": "code",
   "execution_count": 15,
   "id": "c7843a47",
   "metadata": {},
   "outputs": [
    {
     "name": "stdout",
     "output_type": "stream",
     "text": [
      "a [[ 0.600  0.800]\n",
      " [ 2.000  1.000]\n",
      " [ 0.800 -0.600]]\n",
      "\n",
      "u [[-0.365  0.447  0.816]\n",
      " [-0.913  0.000 -0.408]\n",
      " [-0.183 -0.894  0.408]]\n",
      "s [[ 2.449  0.000]\n",
      " [ 0.000  1.000]\n",
      " [ 0.000  0.000]]\n",
      "vh [[-0.894 -0.447]\n",
      " [-0.447  0.894]]\n",
      "\n",
      "usvh [[ 0.600  0.800]\n",
      " [ 2.000  1.000]\n",
      " [ 0.800 -0.600]]\n"
     ]
    }
   ],
   "source": [
    "a = [[ 0.600,  0.800],\n",
    " [ 2.000,  1.000],\n",
    " [ 0.800, -0.600]]\n",
    "a = np.asarray(a)\n",
    "print(\"a\",a)\n",
    "u, s, vh = np.linalg.svd(a) \n",
    "\n",
    "\n",
    "snew = [[s[0],0], [0,s[1]], [0,0]]\n",
    "snew= np.asarray(snew)\n",
    "s = snew\n",
    "print(\"\")\n",
    "print(\"u\",u)\n",
    "print(\"s\",s)\n",
    "print(\"vh\",vh)\n",
    "\n",
    "print(\"\")\n",
    "us = np.dot(u, s)   # 相当于 m * n\n",
    "usvh = np.dot(us, vh)\n",
    "print(\"usvh\",usvh)"
   ]
  },
  {
   "cell_type": "code",
   "execution_count": null,
   "id": "3b62ddbc",
   "metadata": {},
   "outputs": [],
   "source": []
  }
 ],
 "metadata": {
  "kernelspec": {
   "display_name": "Python 3",
   "language": "python",
   "name": "python3"
  },
  "language_info": {
   "codemirror_mode": {
    "name": "ipython",
    "version": 3
   },
   "file_extension": ".py",
   "mimetype": "text/x-python",
   "name": "python",
   "nbconvert_exporter": "python",
   "pygments_lexer": "ipython3",
   "version": "3.8.8"
  }
 },
 "nbformat": 4,
 "nbformat_minor": 5
}
