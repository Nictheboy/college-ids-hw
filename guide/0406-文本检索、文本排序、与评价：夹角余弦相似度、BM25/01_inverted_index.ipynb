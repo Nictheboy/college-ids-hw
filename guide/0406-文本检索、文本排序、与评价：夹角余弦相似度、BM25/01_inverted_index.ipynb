{
 "cells": [
  {
   "cell_type": "markdown",
   "id": "a49117a5",
   "metadata": {},
   "source": [
    "前一部分代码参考https://www.kaggle.com/yassinehamdaoui1/creating-tf-idf-model-from-scratch<br>\n",
    "后一部分代码代考https://www.geeksforgeeks.org/create-inverted-index-for-file-using-python/"
   ]
  },
  {
   "cell_type": "code",
   "execution_count": 19,
   "id": "47a07057",
   "metadata": {},
   "outputs": [],
   "source": [
    "import pandas as pd\n",
    "import sklearn as sk\n",
    "\n",
    "import math \n",
    "import re"
   ]
  },
  {
   "cell_type": "code",
   "execution_count": 20,
   "id": "d5be2e49",
   "metadata": {},
   "outputs": [
    {
     "data": {
      "text/plain": [
       "'love is like heaven, but it can hurt like hell.'"
      ]
     },
     "execution_count": 20,
     "metadata": {},
     "output_type": "execute_result"
    }
   ],
   "source": [
    "sentence1 = \"love is like pi - natural irrational and very important!\"\n",
    "sentence2 = \"love is being stupid together!\"\n",
    "sentence3 = \"love is sharing your popcorn!\"\n",
    "sentence4 = \"love is like heaven, but it can hurt like hell.\"\n",
    "sentence4"
   ]
  },
  {
   "cell_type": "code",
   "execution_count": 21,
   "id": "4410c26e",
   "metadata": {},
   "outputs": [
    {
     "data": {
      "text/plain": [
       "['love',\n",
       " 'is',\n",
       " 'like',\n",
       " 'heaven',\n",
       " 'but',\n",
       " 'it',\n",
       " 'can',\n",
       " 'hurt',\n",
       " 'like',\n",
       " 'hell',\n",
       " '']"
      ]
     },
     "execution_count": 21,
     "metadata": {},
     "output_type": "execute_result"
    }
   ],
   "source": [
    "split_sentence1 = re.split('\\W+', sentence1)\n",
    "split_sentence2 = re.split('\\W+', sentence2)\n",
    "split_sentence3 = re.split('\\W+', sentence3)\n",
    "split_sentence4 = re.split('\\W+', sentence4)\n",
    "split_sentence4"
   ]
  },
  {
   "cell_type": "code",
   "execution_count": 22,
   "id": "0f82cbf8",
   "metadata": {},
   "outputs": [
    {
     "name": "stdout",
     "output_type": "stream",
     "text": [
      "{'', 'love', 'irrational', 'stupid', 'natural', 'being', 'hurt', 'your', 'like', 'but', 'important', 'can', 'pi', 'heaven', 'it', 'and', 'hell', 'sharing', 'is', 'very', 'together', 'popcorn'}\n"
     ]
    }
   ],
   "source": [
    "#join them to remove common duplicate words\n",
    "total= set(split_sentence1)\n",
    "total = total.union(set(split_sentence2))\n",
    "total = total.union(set(split_sentence3))\n",
    "total = total.union(set(split_sentence4))\n",
    "\n",
    "\n",
    "print(total)"
   ]
  },
  {
   "cell_type": "code",
   "execution_count": 23,
   "id": "67bf274c",
   "metadata": {},
   "outputs": [],
   "source": [
    "#test"
   ]
  },
  {
   "cell_type": "code",
   "execution_count": 24,
   "id": "52e9903e",
   "metadata": {},
   "outputs": [
    {
     "data": {
      "text/plain": [
       "{'English', 'Java', 'Python'}"
      ]
     },
     "execution_count": 24,
     "metadata": {},
     "output_type": "execute_result"
    }
   ],
   "source": [
    "languages = set(['Python', 'Java', 'English',''])\n",
    "\n",
    "# remove '' from the set\n",
    "languages.remove('')\n",
    "\n",
    "languages"
   ]
  },
  {
   "cell_type": "code",
   "execution_count": 25,
   "id": "1e48a0e6",
   "metadata": {},
   "outputs": [],
   "source": [
    "import nltk\n",
    "from nltk.corpus import stopwords\n",
    "stop_list = set(stopwords.words('english'))\n",
    "#stop_list"
   ]
  },
  {
   "cell_type": "code",
   "execution_count": 26,
   "id": "bbf4ae54",
   "metadata": {},
   "outputs": [
    {
     "data": {
      "text/plain": [
       "['love',\n",
       " 'irrational',\n",
       " 'stupid',\n",
       " 'natural',\n",
       " 'hurt',\n",
       " 'like',\n",
       " 'important',\n",
       " 'pi',\n",
       " 'heaven',\n",
       " 'hell',\n",
       " 'sharing',\n",
       " 'together',\n",
       " 'popcorn']"
      ]
     },
     "execution_count": 26,
     "metadata": {},
     "output_type": "execute_result"
    }
   ],
   "source": [
    "filtered_total = []\n",
    "\n",
    "for word in total:\n",
    "    if str(word) not in set(stopwords.words('english')):\n",
    "        filtered_total.append(word)\n",
    "total = filtered_total\n",
    "total.remove('')\n",
    "total\n",
    "\n"
   ]
  },
  {
   "cell_type": "code",
   "execution_count": 27,
   "id": "b51e5dee",
   "metadata": {},
   "outputs": [
    {
     "data": {
      "text/plain": [
       "{'love': [0, 1, 2, 3],\n",
       " 'irrational': [0],\n",
       " 'stupid': [1],\n",
       " 'natural': [0],\n",
       " 'hurt': [3],\n",
       " 'like': [0, 3],\n",
       " 'important': [0],\n",
       " 'pi': [0],\n",
       " 'heaven': [3],\n",
       " 'hell': [3],\n",
       " 'sharing': [2],\n",
       " 'together': [1],\n",
       " 'popcorn': [2]}"
      ]
     },
     "execution_count": 27,
     "metadata": {},
     "output_type": "execute_result"
    }
   ],
   "source": [
    "dict_inverted_index = {}\n",
    "sentence_list = [split_sentence1, split_sentence2, split_sentence3, split_sentence4]\n",
    "\n",
    "for word in total:\n",
    "    dict_inverted_index[word] = []\n",
    "    for i in range(4):\n",
    "        if (word in sentence_list[i]):\n",
    "            dict_inverted_index[word].append( i)\n",
    "            \n",
    "dict_inverted_index"
   ]
  },
  {
   "cell_type": "code",
   "execution_count": null,
   "id": "0b7c42c0",
   "metadata": {},
   "outputs": [],
   "source": []
  }
 ],
 "metadata": {
  "kernelspec": {
   "display_name": "Python 3",
   "language": "python",
   "name": "python3"
  },
  "language_info": {
   "codemirror_mode": {
    "name": "ipython",
    "version": 3
   },
   "file_extension": ".py",
   "mimetype": "text/x-python",
   "name": "python",
   "nbconvert_exporter": "python",
   "pygments_lexer": "ipython3",
   "version": "3.8.8"
  }
 },
 "nbformat": 4,
 "nbformat_minor": 5
}
