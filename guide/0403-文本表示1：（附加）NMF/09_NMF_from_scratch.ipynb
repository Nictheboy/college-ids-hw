{
 "cells": [
  {
   "cell_type": "markdown",
   "id": "545303d7",
   "metadata": {},
   "source": [
    "# 参考"
   ]
  },
  {
   "cell_type": "code",
   "execution_count": 6,
   "id": "04918121",
   "metadata": {},
   "outputs": [],
   "source": [
    "#https://www.audiolabs-erlangen.de/resources/MIR/FMP/C8/C8S3_NMFbasic.html"
   ]
  },
  {
   "cell_type": "markdown",
   "id": "7808a87a",
   "metadata": {},
   "source": [
    "# 实现"
   ]
  },
  {
   "cell_type": "code",
   "execution_count": 7,
   "id": "905f4a7a",
   "metadata": {},
   "outputs": [],
   "source": [
    "import os, sys\n",
    "import numpy as np\n",
    "import scipy\n",
    "#import scipy.spatial\n",
    "import matplotlib.pyplot as plt\n",
    "import IPython.display as ipd\n",
    "import librosa, librosa.display\n",
    "#from matplotlib import gridspec\n",
    "from numba import jit\n",
    "\n",
    "sys.path.append('..')\n",
    "import libfmp.b\n",
    "import libfmp.c2\n",
    "import libfmp.c6\n",
    "%matplotlib inline\n",
    "\n",
    "@jit(nopython=True)\n",
    "def nmf(V, R, thresh=0.001, L=1000, W=None, H=None, norm=False, report=False):\n",
    "    \"\"\"NMF algorithm with Euclidean distance\n",
    "\n",
    "    Notebook: C8/C8S3_NMFbasic.ipynb\n",
    "\n",
    "    Args:\n",
    "        V (np.ndarray): Nonnegative matrix of size K x N\n",
    "        R (int): Rank parameter\n",
    "        thresh (float): Threshold used as stop criterion (Default value = 0.001)\n",
    "        L (int): Maximal number of iteration (Default value = 1000)\n",
    "        W (np.ndarray): Nonnegative matrix of size K x R used for initialization (Default value = None)\n",
    "        H (np.ndarray): Nonnegative matrix of size R x N used for initialization (Default value = None)\n",
    "        norm (bool): Applies max-normalization of columns of final W (Default value = False)\n",
    "        report (bool): Reports errors during runtime (Default value = False)\n",
    "\n",
    "    Returns:\n",
    "        W (np.ndarray): Nonnegative matrix of size K x R\n",
    "        H (np.ndarray): Nonnegative matrix of size R x N\n",
    "        V_approx (np.ndarray): Nonnegative matrix W*H of size K x N\n",
    "        V_approx_err (float): Error between V and V_approx\n",
    "        H_W_error (np.ndarray): History of errors of subsequent H and W matrices\n",
    "    \"\"\"\n",
    "    K = V.shape[0]\n",
    "    N = V.shape[1]\n",
    "    if W is None:\n",
    "        W = np.random.rand(K, R)\n",
    "    if H is None:\n",
    "        H = np.random.rand(R, N)\n",
    "    V = V.astype(np.float64)\n",
    "    W = W.astype(np.float64)\n",
    "    H = H.astype(np.float64)\n",
    "    H_W_error = np.zeros((2, L))\n",
    "    ell = 1\n",
    "    below_thresh = False\n",
    "    eps_machine = np.finfo(np.float32).eps\n",
    "    while not below_thresh and ell <= L:\n",
    "        H_ell = H\n",
    "        W_ell = W\n",
    "        H = H * (W.transpose().dot(V) / (W.transpose().dot(W).dot(H) + eps_machine))\n",
    "        W = W * (V.dot(H.transpose()) / (W.dot(H).dot(H.transpose()) + eps_machine))\n",
    "\n",
    "        # H+1 = H *p ((W^T * V) / p (W^T * W * H))\n",
    "        # H = np.multiply(H, np.divide(np.matmul(np.transpose(W), V),\n",
    "        #                              np.matmul(np.matmul(np.transpose(W), W), H)))\n",
    "        # W+1 = W *p ((V * H^T) / p (W * H * H^T))\n",
    "        # W = np.multiply(W, np.divide(np.matmul(V, np.transpose(H)),\n",
    "        #                              np.matmul(np.matmul(W, H), np.transpose(H))))\n",
    "\n",
    "        H_error = np.linalg.norm(H-H_ell, ord=2)\n",
    "        W_error = np.linalg.norm(W - W_ell, ord=2)\n",
    "        H_W_error[:, ell-1] = [H_error, W_error]\n",
    "        if report:\n",
    "            print('Iteration: ', ell, ', H_error: ', H_error, ', W_error: ', W_error)\n",
    "        if H_error < thresh and W_error < thresh:\n",
    "            below_thresh = True\n",
    "            H_W_error = H_W_error[:, 0:ell]\n",
    "        ell += 1\n",
    "    if norm:\n",
    "        for r in range(R):\n",
    "            v_max = np.max(W[:, r])\n",
    "            if v_max > 0:\n",
    "                W[:, r] = W[:, r] / v_max\n",
    "                H[r, :] = H[r, :] * v_max\n",
    "    V_approx = W.dot(H)\n",
    "    V_approx_err = np.linalg.norm(V-V_approx, ord=2)\n",
    "    return W, H, V_approx, V_approx_err, H_W_error"
   ]
  },
  {
   "cell_type": "markdown",
   "id": "7bcc3781",
   "metadata": {},
   "source": [
    "# toy example"
   ]
  },
  {
   "cell_type": "code",
   "execution_count": 8,
   "id": "02699835",
   "metadata": {},
   "outputs": [
    {
     "name": "stdout",
     "output_type": "stream",
     "text": [
      "Matrix V and randomly initialized matrices W and H\n"
     ]
    },
    {
     "data": {
      "image/png": "[encoded data removed]",
      "text/plain": [
       "<Figure size 864x144 with 8 Axes>"
      ]
     },
     "metadata": {
      "needs_background": "light"
     },
     "output_type": "display_data"
    },
    {
     "name": "stdout",
     "output_type": "stream",
     "text": [
      "Matrix V and matrices W and H after training\n"
     ]
    },
    {
     "data": {
      "image/png": "[encoded data removed]",
      "text/plain": [
       "<Figure size 864x144 with 8 Axes>"
      ]
     },
     "metadata": {
      "needs_background": "light"
     },
     "output_type": "display_data"
    },
    {
     "data": {
      "image/png": "[encoded data removed]",
      "text/plain": [
       "<Figure size 360x144 with 1 Axes>"
      ]
     },
     "metadata": {
      "needs_background": "light"
     },
     "output_type": "display_data"
    }
   ],
   "source": [
    "def plot_nmf(V, W, H, V_approx, error, figsize=(10,2), aspect='auto', wr=[1, 0.5, 1, 1]): \n",
    "    fig, ax = plt.subplots(1, 4, gridspec_kw={'width_ratios': wr},\n",
    "                           figsize=figsize)    \n",
    "    cmap = 'gray_r'\n",
    "    im = ax[0].imshow(V, aspect=aspect, origin='lower', cmap=cmap, clim=[0, np.max(V)])\n",
    "    ax[0].set_title(r'$V$')\n",
    "    plt.sca(ax[0])\n",
    "    plt.colorbar(im)   \n",
    "    im = ax[1].imshow(W, aspect=aspect, origin='lower', cmap=cmap, clim=[0, np.max(W)])\n",
    "    ax[1].set_title(r'$W$')\n",
    "    plt.sca(ax[1])\n",
    "    plt.colorbar(im)\n",
    "    im = ax[2].imshow(H, aspect=aspect, origin='lower', cmap=cmap, clim=[0, np.max(H)])\n",
    "    ax[2].set_title(r'$H$')\n",
    "    plt.sca(ax[2])    \n",
    "    plt.colorbar(im)\n",
    "    im = ax[3].imshow(V_approx, aspect=aspect, origin='lower', cmap=cmap, clim=[0, np.max(V_approx)])\n",
    "    ax[3].set_title(r'$WH$ (error = %0.2f)'%error)\n",
    "    plt.sca(ax[3])    \n",
    "    plt.colorbar(im)\n",
    "    plt.tight_layout() \n",
    "    plt.show() \n",
    "    \n",
    "V = np.array([ \n",
    "    [0, 1, 2, 3, 4, 5, 6, 7], \n",
    "    [0, 1, 2, 3, 3, 2, 1, 0],\n",
    "    [0, 0, 0, 0, 0, 0, 0, 0], \n",
    "    [7, 0, 0, 0, 0, 0, 0, 0], \n",
    "    [7, 6, 5, 4, 3, 2, 1, 0]    \n",
    "             ],dtype=float)\n",
    "\n",
    "K = V.shape[0]\n",
    "N = V.shape[1]\n",
    "R = 2\n",
    "thresh = 0.001\n",
    "L = 100\n",
    "\n",
    "W_init =  np.random.rand(K,R) \n",
    "W_init = W_init/np.max(W_init)\n",
    "H_init = np.random.rand(R,N)    \n",
    "\n",
    "print('Matrix V and randomly initialized matrices W and H')\n",
    "V_approx = W_init.dot(H_init)\n",
    "error = np.linalg.norm(V-V_approx, ord=2)\n",
    "plot_nmf(V, W_init, H_init, V_approx, error, figsize=(12,2), \n",
    "         aspect='equal', wr=[1, 0.3, 1, 1])\n",
    "\n",
    "print('Matrix V and matrices W and H after training')\n",
    "W, H, V_approx, V_approx_err, H_W_error = nmf(V, R, thresh=thresh, \n",
    "                                   L=L, W=W_init, H=H_init, norm=1, report=0)\n",
    "plot_nmf(V, W, H, V_approx, V_approx_err, figsize=(12,2), \n",
    "         aspect='equal', wr=[1, 0.3, 1, 1])\n",
    "\n",
    "plt.figure(figsize=(5,2))\n",
    "num_iter = H_W_error.shape[1]\n",
    "plt.plot(np.arange(num_iter)+1, H_W_error[0,:], 'r', label='W error')\n",
    "plt.plot(np.arange(num_iter)+1, H_W_error[1,:], 'b', label='H error')\n",
    "plt.yscale('log')\n",
    "plt.xlabel('Iteration index')\n",
    "plt.ylabel('Error (log axis)')\n",
    "plt.title('Required number of iterations: %d'%num_iter)\n",
    "plt.xlim([1, num_iter])\n",
    "plt.legend()\n",
    "plt.tight_layout()"
   ]
  },
  {
   "cell_type": "code",
   "execution_count": null,
   "id": "efa7b244",
   "metadata": {},
   "outputs": [],
   "source": []
  }
 ],
 "metadata": {
  "kernelspec": {
   "display_name": "Python 3",
   "language": "python",
   "name": "python3"
  },
  "language_info": {
   "codemirror_mode": {
    "name": "ipython",
    "version": 3
   },
   "file_extension": ".py",
   "mimetype": "text/x-python",
   "name": "python",
   "nbconvert_exporter": "python",
   "pygments_lexer": "ipython3",
   "version": "3.8.8"
  }
 },
 "nbformat": 4,
 "nbformat_minor": 5
}
