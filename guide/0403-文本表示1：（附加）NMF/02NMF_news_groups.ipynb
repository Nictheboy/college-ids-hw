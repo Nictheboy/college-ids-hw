{
 "cells": [
  {
   "cell_type": "markdown",
   "id": "e9d74354",
   "metadata": {},
   "source": [
    "https://github.com/carriexu24/NMF-from-scratch-using-SGD/blob/master/NMF%20from%20scratch%20using%20SGD.ipynb"
   ]
  },
  {
   "cell_type": "markdown",
   "id": "6b4ab916",
   "metadata": {},
   "source": [
    "# prepare data"
   ]
  },
  {
   "cell_type": "code",
   "execution_count": 11,
   "id": "c7e11c02",
   "metadata": {},
   "outputs": [],
   "source": [
    "import numpy as np\n",
    "from sklearn.datasets import fetch_20newsgroups\n",
    "import matplotlib.pyplot as plt\n",
    "\n",
    "%matplotlib inline\n",
    "np.set_printoptions(suppress=True)"
   ]
  },
  {
   "cell_type": "code",
   "execution_count": 12,
   "id": "c7429c57",
   "metadata": {},
   "outputs": [],
   "source": [
    "categories = ['alt.atheism', 'talk.religion.misc', 'comp.graphics', 'sci.space']\n",
    "remove = ('headers', 'footers', 'quotes')\n",
    "newsgroups_train = fetch_20newsgroups(subset='train', categories=categories, remove=remove)\n",
    "newsgroups_test = fetch_20newsgroups(subset='test', categories=categories, remove=remove)\n"
   ]
  },
  {
   "cell_type": "markdown",
   "id": "24113dc1",
   "metadata": {},
   "source": [
    "# TfidfVectorizer"
   ]
  },
  {
   "cell_type": "code",
   "execution_count": 13,
   "id": "6afce8e3",
   "metadata": {},
   "outputs": [
    {
     "data": {
      "text/plain": [
       "(2034, 26576)"
      ]
     },
     "execution_count": 13,
     "metadata": {},
     "output_type": "execute_result"
    }
   ],
   "source": [
    "from sklearn.feature_extraction.text import TfidfVectorizer\n",
    "vectorizer_tfidf = TfidfVectorizer(stop_words='english')\n",
    "vectors_tfidf = vectorizer_tfidf.fit_transform(newsgroups_train.data).todense() # (documents, vocab)\n",
    "vectors_tfidf.shape"
   ]
  },
  {
   "cell_type": "code",
   "execution_count": 14,
   "id": "8adc3b0b",
   "metadata": {},
   "outputs": [
    {
     "name": "stdout",
     "output_type": "stream",
     "text": [
      "vocab ['00' '000' '0000' ... 'zware' 'zwarte' 'zyxel']\n",
      "vocab shape (26576,)\n"
     ]
    }
   ],
   "source": [
    "vocab = np.array(vectorizer_tfidf.get_feature_names())\n",
    "print(\"vocab\",vocab)\n",
    "print(\"vocab shape\",vocab.shape)"
   ]
  },
  {
   "cell_type": "markdown",
   "id": "03e9a1f0",
   "metadata": {},
   "source": [
    "# get_nmf_topics"
   ]
  },
  {
   "cell_type": "code",
   "execution_count": 15,
   "id": "c51908d9",
   "metadata": {},
   "outputs": [
    {
     "name": "stdout",
     "output_type": "stream",
     "text": [
      "[3 1 4 5 6]\n"
     ]
    }
   ],
   "source": [
    "#test\n",
    "my_list = [ 1, 37,5,57,9,8,6,5,3]\n",
    "my_list = np.asarray(my_list)\n",
    "\n",
    "id_list = my_list.argsort()[:-5 - 1:-1]\n",
    "print(id_list)\n",
    "#取得降序排列的前5个id"
   ]
  },
  {
   "cell_type": "code",
   "execution_count": 16,
   "id": "c478f76d",
   "metadata": {},
   "outputs": [],
   "source": [
    "import pandas as pd\n",
    "def get_nmf_topics(vectorizer_tfidf, model, num_topics, n_top_words):\n",
    "    feat_names = vectorizer_tfidf.get_feature_names() #word list\n",
    "    word_dict = {};\n",
    "    for i in range(num_topics):\n",
    "        words_ids = model.components_[i].argsort()[:-n_top_words - 1:-1]\n",
    "        words = [feat_names[key] for key in words_ids]\n",
    "        word_dict['Topic # ' + '{:02d}'.format(i+1)] = words;\n",
    "            \n",
    "    return pd.DataFrame(word_dict);"
   ]
  },
  {
   "cell_type": "markdown",
   "id": "38356af2",
   "metadata": {},
   "source": [
    "# NMF from sklearn"
   ]
  },
  {
   "cell_type": "code",
   "execution_count": 17,
   "id": "6607b309",
   "metadata": {},
   "outputs": [],
   "source": [
    "from sklearn import decomposition\n",
    "\n",
    "d = 4 # num topics\n",
    "clf = decomposition.NMF(n_components=d, random_state=1)"
   ]
  },
  {
   "cell_type": "code",
   "execution_count": 18,
   "id": "cf53be1d",
   "metadata": {},
   "outputs": [
    {
     "name": "stdout",
     "output_type": "stream",
     "text": [
      "(2034, 4)\n",
      "(4, 26576)\n"
     ]
    }
   ],
   "source": [
    "W1 = clf.fit_transform(vectors_tfidf)\n",
    "print(W1.shape)\n",
    "H1 = clf.components_\n",
    "print(H1.shape)"
   ]
  },
  {
   "cell_type": "code",
   "execution_count": 19,
   "id": "648b9cf7",
   "metadata": {},
   "outputs": [
    {
     "data": {
      "text/html": [
       "<div>\n",
       "<style scoped>\n",
       "    .dataframe tbody tr th:only-of-type {\n",
       "        vertical-align: middle;\n",
       "    }\n",
       "\n",
       "    .dataframe tbody tr th {\n",
       "        vertical-align: top;\n",
       "    }\n",
       "\n",
       "    .dataframe thead th {\n",
       "        text-align: right;\n",
       "    }\n",
       "</style>\n",
       "<table border=\"1\" class=\"dataframe\">\n",
       "  <thead>\n",
       "    <tr style=\"text-align: right;\">\n",
       "      <th></th>\n",
       "      <th>Topic # 01</th>\n",
       "      <th>Topic # 02</th>\n",
       "      <th>Topic # 03</th>\n",
       "      <th>Topic # 04</th>\n",
       "    </tr>\n",
       "  </thead>\n",
       "  <tbody>\n",
       "    <tr>\n",
       "      <th>0</th>\n",
       "      <td>god</td>\n",
       "      <td>graphics</td>\n",
       "      <td>space</td>\n",
       "      <td>ico</td>\n",
       "    </tr>\n",
       "    <tr>\n",
       "      <th>1</th>\n",
       "      <td>people</td>\n",
       "      <td>thanks</td>\n",
       "      <td>nasa</td>\n",
       "      <td>bobbe</td>\n",
       "    </tr>\n",
       "    <tr>\n",
       "      <th>2</th>\n",
       "      <td>don</td>\n",
       "      <td>files</td>\n",
       "      <td>launch</td>\n",
       "      <td>tek</td>\n",
       "    </tr>\n",
       "    <tr>\n",
       "      <th>3</th>\n",
       "      <td>think</td>\n",
       "      <td>image</td>\n",
       "      <td>shuttle</td>\n",
       "      <td>beauchaine</td>\n",
       "    </tr>\n",
       "    <tr>\n",
       "      <th>4</th>\n",
       "      <td>jesus</td>\n",
       "      <td>file</td>\n",
       "      <td>moon</td>\n",
       "      <td>bronx</td>\n",
       "    </tr>\n",
       "    <tr>\n",
       "      <th>5</th>\n",
       "      <td>just</td>\n",
       "      <td>program</td>\n",
       "      <td>orbit</td>\n",
       "      <td>manhattan</td>\n",
       "    </tr>\n",
       "    <tr>\n",
       "      <th>6</th>\n",
       "      <td>say</td>\n",
       "      <td>know</td>\n",
       "      <td>lunar</td>\n",
       "      <td>sank</td>\n",
       "    </tr>\n",
       "    <tr>\n",
       "      <th>7</th>\n",
       "      <td>bible</td>\n",
       "      <td>windows</td>\n",
       "      <td>earth</td>\n",
       "      <td>queens</td>\n",
       "    </tr>\n",
       "  </tbody>\n",
       "</table>\n",
       "</div>"
      ],
      "text/plain": [
       "  Topic # 01 Topic # 02 Topic # 03  Topic # 04\n",
       "0        god   graphics      space         ico\n",
       "1     people     thanks       nasa       bobbe\n",
       "2        don      files     launch         tek\n",
       "3      think      image    shuttle  beauchaine\n",
       "4      jesus       file       moon       bronx\n",
       "5       just    program      orbit   manhattan\n",
       "6        say       know      lunar        sank\n",
       "7      bible    windows      earth      queens"
      ]
     },
     "execution_count": 19,
     "metadata": {},
     "output_type": "execute_result"
    }
   ],
   "source": [
    "#\n",
    "num_topics = 4\n",
    "n_top_words = 8\n",
    "df2=  get_nmf_topics(vectorizer_tfidf, clf, num_topics, n_top_words)\n",
    "df2.head(10)"
   ]
  },
  {
   "cell_type": "code",
   "execution_count": null,
   "id": "6bbf8b0f",
   "metadata": {},
   "outputs": [],
   "source": []
  }
 ],
 "metadata": {
  "kernelspec": {
   "display_name": "Python 3",
   "language": "python",
   "name": "python3"
  },
  "language_info": {
   "codemirror_mode": {
    "name": "ipython",
    "version": 3
   },
   "file_extension": ".py",
   "mimetype": "text/x-python",
   "name": "python",
   "nbconvert_exporter": "python",
   "pygments_lexer": "ipython3",
   "version": "3.8.8"
  }
 },
 "nbformat": 4,
 "nbformat_minor": 5
}
