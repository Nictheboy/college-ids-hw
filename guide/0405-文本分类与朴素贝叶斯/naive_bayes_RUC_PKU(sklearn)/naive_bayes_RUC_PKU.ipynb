{
 "cells": [
  {
   "cell_type": "code",
   "execution_count": 1,
   "metadata": {},
   "outputs": [],
   "source": [
    "import pandas as pd\n",
    "from sklearn.model_selection import train_test_split\n",
    "from sklearn.feature_extraction.text import TfidfVectorizer\n",
    "from sklearn.naive_bayes import MultinomialNB\n",
    "from sklearn.metrics import accuracy_score, confusion_matrix, f1_score"
   ]
  },
  {
   "cell_type": "code",
   "execution_count": 2,
   "metadata": {},
   "outputs": [
    {
     "data": {
      "text/html": [
       "<div>\n",
       "<style scoped>\n",
       "    .dataframe tbody tr th:only-of-type {\n",
       "        vertical-align: middle;\n",
       "    }\n",
       "\n",
       "    .dataframe tbody tr th {\n",
       "        vertical-align: top;\n",
       "    }\n",
       "\n",
       "    .dataframe thead th {\n",
       "        text-align: right;\n",
       "    }\n",
       "</style>\n",
       "<table border=\"1\" class=\"dataframe\">\n",
       "  <thead>\n",
       "    <tr style=\"text-align: right;\">\n",
       "      <th></th>\n",
       "      <th>Category</th>\n",
       "      <th>Message</th>\n",
       "    </tr>\n",
       "  </thead>\n",
       "  <tbody>\n",
       "    <tr>\n",
       "      <th>0</th>\n",
       "      <td>RUC</td>\n",
       "      <td>RUC MINGDELOU</td>\n",
       "    </tr>\n",
       "    <tr>\n",
       "      <th>1</th>\n",
       "      <td>RUC</td>\n",
       "      <td>MINGDELOU Office</td>\n",
       "    </tr>\n",
       "    <tr>\n",
       "      <th>2</th>\n",
       "      <td>PKU</td>\n",
       "      <td>PKU WEIMINGHU</td>\n",
       "    </tr>\n",
       "    <tr>\n",
       "      <th>3</th>\n",
       "      <td>RUC</td>\n",
       "      <td>YISHAOCHI being small lake</td>\n",
       "    </tr>\n",
       "    <tr>\n",
       "      <th>4</th>\n",
       "      <td>PKU</td>\n",
       "      <td>WEIMINGHU being big lake</td>\n",
       "    </tr>\n",
       "    <tr>\n",
       "      <th>5</th>\n",
       "      <td>RUC</td>\n",
       "      <td>MINGDELOU WEIMINGHU lake</td>\n",
       "    </tr>\n",
       "  </tbody>\n",
       "</table>\n",
       "</div>"
      ],
      "text/plain": [
       "  Category                     Message\n",
       "0      RUC               RUC MINGDELOU\n",
       "1      RUC            MINGDELOU Office\n",
       "2      PKU               PKU WEIMINGHU\n",
       "3      RUC  YISHAOCHI being small lake\n",
       "4      PKU    WEIMINGHU being big lake\n",
       "5      RUC    MINGDELOU WEIMINGHU lake"
      ]
     },
     "execution_count": 2,
     "metadata": {},
     "output_type": "execute_result"
    }
   ],
   "source": [
    "df1=pd.read_csv(\"RUC_PKU.csv\")\n",
    "df=df1.where((pd.notnull(df1)), '')\n",
    "df.head(10)"
   ]
  },
  {
   "cell_type": "code",
   "execution_count": 3,
   "metadata": {},
   "outputs": [
    {
     "data": {
      "text/html": [
       "<div>\n",
       "<style scoped>\n",
       "    .dataframe tbody tr th:only-of-type {\n",
       "        vertical-align: middle;\n",
       "    }\n",
       "\n",
       "    .dataframe tbody tr th {\n",
       "        vertical-align: top;\n",
       "    }\n",
       "\n",
       "    .dataframe thead th {\n",
       "        text-align: right;\n",
       "    }\n",
       "</style>\n",
       "<table border=\"1\" class=\"dataframe\">\n",
       "  <thead>\n",
       "    <tr style=\"text-align: right;\">\n",
       "      <th></th>\n",
       "      <th>Category</th>\n",
       "      <th>Message</th>\n",
       "    </tr>\n",
       "  </thead>\n",
       "  <tbody>\n",
       "    <tr>\n",
       "      <th>0</th>\n",
       "      <td>1</td>\n",
       "      <td>RUC MINGDELOU</td>\n",
       "    </tr>\n",
       "    <tr>\n",
       "      <th>1</th>\n",
       "      <td>1</td>\n",
       "      <td>MINGDELOU Office</td>\n",
       "    </tr>\n",
       "    <tr>\n",
       "      <th>2</th>\n",
       "      <td>0</td>\n",
       "      <td>PKU WEIMINGHU</td>\n",
       "    </tr>\n",
       "    <tr>\n",
       "      <th>3</th>\n",
       "      <td>1</td>\n",
       "      <td>YISHAOCHI being small lake</td>\n",
       "    </tr>\n",
       "    <tr>\n",
       "      <th>4</th>\n",
       "      <td>0</td>\n",
       "      <td>WEIMINGHU being big lake</td>\n",
       "    </tr>\n",
       "    <tr>\n",
       "      <th>5</th>\n",
       "      <td>1</td>\n",
       "      <td>MINGDELOU WEIMINGHU lake</td>\n",
       "    </tr>\n",
       "  </tbody>\n",
       "</table>\n",
       "</div>"
      ],
      "text/plain": [
       "  Category                     Message\n",
       "0        1               RUC MINGDELOU\n",
       "1        1            MINGDELOU Office\n",
       "2        0               PKU WEIMINGHU\n",
       "3        1  YISHAOCHI being small lake\n",
       "4        0    WEIMINGHU being big lake\n",
       "5        1    MINGDELOU WEIMINGHU lake"
      ]
     },
     "execution_count": 3,
     "metadata": {},
     "output_type": "execute_result"
    }
   ],
   "source": [
    "df.loc[df[\"Category\"] == 'RUC', \"Category\"]=1\n",
    "df.loc[df[\"Category\"] == 'PKU', \"Category\"]=0\n",
    "df.head(10)"
   ]
  },
  {
   "cell_type": "code",
   "execution_count": 4,
   "metadata": {},
   "outputs": [
    {
     "data": {
      "text/plain": [
       "0                 RUC MINGDELOU\n",
       "1              MINGDELOU Office\n",
       "2                 PKU WEIMINGHU\n",
       "3    YISHAOCHI being small lake\n",
       "4      WEIMINGHU being big lake\n",
       "5      MINGDELOU WEIMINGHU lake\n",
       "Name: Message, dtype: object"
      ]
     },
     "execution_count": 4,
     "metadata": {},
     "output_type": "execute_result"
    }
   ],
   "source": [
    "df_x=df['Message']\n",
    "df_x.head(10)\n"
   ]
  },
  {
   "cell_type": "code",
   "execution_count": 5,
   "metadata": {},
   "outputs": [
    {
     "data": {
      "text/plain": [
       "0    1\n",
       "1    1\n",
       "2    0\n",
       "3    1\n",
       "4    0\n",
       "5    1\n",
       "Name: Category, dtype: object"
      ]
     },
     "execution_count": 5,
     "metadata": {},
     "output_type": "execute_result"
    }
   ],
   "source": [
    "\n",
    "df_y=df['Category']\n",
    "df_y.head(10)"
   ]
  },
  {
   "cell_type": "code",
   "execution_count": 6,
   "metadata": {},
   "outputs": [
    {
     "name": "stdout",
     "output_type": "stream",
     "text": [
      "x_train 0                 RUC MINGDELOU\n",
      "1              MINGDELOU Office\n",
      "2                 PKU WEIMINGHU\n",
      "3    YISHAOCHI being small lake\n",
      "4      WEIMINGHU being big lake\n",
      "Name: Message, dtype: object\n",
      "x_test 5    MINGDELOU WEIMINGHU lake\n",
      "Name: Message, dtype: object\n"
     ]
    }
   ],
   "source": [
    "#x_train, x_test, y_train, y_test=train_test_split(df_x, df_y, test_size=0.2)\n",
    "x_train = df_x[:5]\n",
    "x_test=df_x[5:]\n",
    "print(\"x_train\",x_train)\n",
    "print(\"x_test\",x_test)\n"
   ]
  },
  {
   "cell_type": "code",
   "execution_count": 7,
   "metadata": {},
   "outputs": [
    {
     "name": "stdout",
     "output_type": "stream",
     "text": [
      "y_train 0    1\n",
      "1    1\n",
      "2    0\n",
      "3    1\n",
      "4    0\n",
      "Name: Category, dtype: object\n",
      "y_test 5    1\n",
      "Name: Category, dtype: object\n"
     ]
    }
   ],
   "source": [
    "\n",
    "y_train = df_y[:5]\n",
    "y_test=df_y[5:]\n",
    "print(\"y_train\",y_train)\n",
    "print(\"y_test\",y_test)"
   ]
  },
  {
   "cell_type": "code",
   "execution_count": 8,
   "metadata": {},
   "outputs": [],
   "source": [
    "tfvec=TfidfVectorizer(min_df=1, stop_words='english', lowercase=True)\n",
    "x_trainFeat=tfvec.fit_transform(x_train)\n",
    "x_testFeat=tfvec.transform(x_test)"
   ]
  },
  {
   "cell_type": "code",
   "execution_count": 9,
   "metadata": {},
   "outputs": [],
   "source": [
    "y_trainGnb=y_train.astype('int')\n",
    "classifierModel=MultinomialNB()\n",
    "classifierModel.fit(x_trainFeat, y_trainGnb)\n",
    "y_pred=classifierModel.predict(x_testFeat)"
   ]
  },
  {
   "cell_type": "code",
   "execution_count": 10,
   "metadata": {},
   "outputs": [
    {
     "name": "stdout",
     "output_type": "stream",
     "text": [
      "y_pred RUC\n"
     ]
    }
   ],
   "source": [
    "if y_pred[0]==1:\n",
    "    print(\"y_pred\",\"RUC\")\n",
    "else:\n",
    "    print(\"y_pred\",\"PKU\")"
   ]
  },
  {
   "cell_type": "code",
   "execution_count": 11,
   "metadata": {},
   "outputs": [
    {
     "name": "stdout",
     "output_type": "stream",
     "text": [
      "Accuracy Score: 100.0000\n",
      "F1 Score: 100.0000\n",
      "Confusion matrix:\n",
      "[[1]]\n"
     ]
    }
   ],
   "source": [
    "y_test=y_test.astype('int')\n",
    "print(\"Accuracy Score: {0:.4f}\".format(accuracy_score(y_test, y_pred)*100))\n",
    "print(\"F1 Score:{0: .4f}\".format(f1_score(y_test, y_pred, average='macro')*100))\n",
    "print(\"Confusion matrix:\")\n",
    "print(confusion_matrix(y_test, y_pred))"
   ]
  },
  {
   "cell_type": "code",
   "execution_count": null,
   "metadata": {},
   "outputs": [],
   "source": []
  }
 ],
 "metadata": {
  "kernelspec": {
   "display_name": "Python 3",
   "language": "python",
   "name": "python3"
  },
  "language_info": {
   "codemirror_mode": {
    "name": "ipython",
    "version": 3
   },
   "file_extension": ".py",
   "mimetype": "text/x-python",
   "name": "python",
   "nbconvert_exporter": "python",
   "pygments_lexer": "ipython3",
   "version": "3.8.8"
  }
 },
 "nbformat": 4,
 "nbformat_minor": 2
}
