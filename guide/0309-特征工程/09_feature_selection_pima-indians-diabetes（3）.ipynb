{
 "cells": [
  {
   "cell_type": "code",
   "execution_count": 11,
   "id": "ae4694c9",
   "metadata": {},
   "outputs": [],
   "source": [
    "#https://www.analyticsvidhya.com/blog/2020/10/feature-selection-techniques-in-machine-learning/"
   ]
  },
  {
   "cell_type": "code",
   "execution_count": 12,
   "id": "9cde0e15",
   "metadata": {},
   "outputs": [
    {
     "data": {
      "text/html": [
       "<div>\n",
       "<style scoped>\n",
       "    .dataframe tbody tr th:only-of-type {\n",
       "        vertical-align: middle;\n",
       "    }\n",
       "\n",
       "    .dataframe tbody tr th {\n",
       "        vertical-align: top;\n",
       "    }\n",
       "\n",
       "    .dataframe thead th {\n",
       "        text-align: right;\n",
       "    }\n",
       "</style>\n",
       "<table border=\"1\" class=\"dataframe\">\n",
       "  <thead>\n",
       "    <tr style=\"text-align: right;\">\n",
       "      <th></th>\n",
       "      <th>preg</th>\n",
       "      <th>plas</th>\n",
       "      <th>pres</th>\n",
       "      <th>skin</th>\n",
       "      <th>test</th>\n",
       "      <th>mass</th>\n",
       "      <th>pedi</th>\n",
       "      <th>age</th>\n",
       "      <th>class</th>\n",
       "    </tr>\n",
       "  </thead>\n",
       "  <tbody>\n",
       "    <tr>\n",
       "      <th>0</th>\n",
       "      <td>6</td>\n",
       "      <td>148</td>\n",
       "      <td>72</td>\n",
       "      <td>35</td>\n",
       "      <td>0</td>\n",
       "      <td>33.6</td>\n",
       "      <td>0.627</td>\n",
       "      <td>50</td>\n",
       "      <td>1</td>\n",
       "    </tr>\n",
       "    <tr>\n",
       "      <th>1</th>\n",
       "      <td>1</td>\n",
       "      <td>85</td>\n",
       "      <td>66</td>\n",
       "      <td>29</td>\n",
       "      <td>0</td>\n",
       "      <td>26.6</td>\n",
       "      <td>0.351</td>\n",
       "      <td>31</td>\n",
       "      <td>0</td>\n",
       "    </tr>\n",
       "    <tr>\n",
       "      <th>2</th>\n",
       "      <td>8</td>\n",
       "      <td>183</td>\n",
       "      <td>64</td>\n",
       "      <td>0</td>\n",
       "      <td>0</td>\n",
       "      <td>23.3</td>\n",
       "      <td>0.672</td>\n",
       "      <td>32</td>\n",
       "      <td>1</td>\n",
       "    </tr>\n",
       "    <tr>\n",
       "      <th>3</th>\n",
       "      <td>1</td>\n",
       "      <td>89</td>\n",
       "      <td>66</td>\n",
       "      <td>23</td>\n",
       "      <td>94</td>\n",
       "      <td>28.1</td>\n",
       "      <td>0.167</td>\n",
       "      <td>21</td>\n",
       "      <td>0</td>\n",
       "    </tr>\n",
       "    <tr>\n",
       "      <th>4</th>\n",
       "      <td>0</td>\n",
       "      <td>137</td>\n",
       "      <td>40</td>\n",
       "      <td>35</td>\n",
       "      <td>168</td>\n",
       "      <td>43.1</td>\n",
       "      <td>2.288</td>\n",
       "      <td>33</td>\n",
       "      <td>1</td>\n",
       "    </tr>\n",
       "  </tbody>\n",
       "</table>\n",
       "</div>"
      ],
      "text/plain": [
       "   preg  plas  pres  skin  test  mass   pedi  age  class\n",
       "0     6   148    72    35     0  33.6  0.627   50      1\n",
       "1     1    85    66    29     0  26.6  0.351   31      0\n",
       "2     8   183    64     0     0  23.3  0.672   32      1\n",
       "3     1    89    66    23    94  28.1  0.167   21      0\n",
       "4     0   137    40    35   168  43.1  2.288   33      1"
      ]
     },
     "execution_count": 12,
     "metadata": {},
     "output_type": "execute_result"
    }
   ],
   "source": [
    "# Feature Selection with Univariate Statistical Tests\n",
    "from pandas import read_csv\n",
    "from numpy import set_printoptions\n",
    "from sklearn.feature_selection import SelectKBest\n",
    "from sklearn.feature_selection import f_classif\n",
    "\n",
    "# load data\n",
    "filename = 'pima-indians-diabetes.csv'\n",
    "names = ['preg', 'plas', 'pres', 'skin', 'test', 'mass', 'pedi', 'age', 'class']\n",
    "dataframe = read_csv(filename, names=names)\n",
    "\n",
    "data = dataframe\n",
    "data.head()"
   ]
  },
  {
   "cell_type": "code",
   "execution_count": 13,
   "id": "7ea21234",
   "metadata": {},
   "outputs": [
    {
     "name": "stdout",
     "output_type": "stream",
     "text": [
      "X [[  6.    148.     72.    ...  33.6     0.627  50.   ]\n",
      " [  1.     85.     66.    ...  26.6     0.351  31.   ]\n",
      " [  8.    183.     64.    ...  23.3     0.672  32.   ]\n",
      " ...\n",
      " [  5.    121.     72.    ...  26.2     0.245  30.   ]\n",
      " [  1.    126.     60.    ...  30.1     0.349  47.   ]\n",
      " [  1.     93.     70.    ...  30.4     0.315  23.   ]]\n",
      "Y [1. 0. 1. 0. 1. 0. 1. 0. 1. 1. 0. 1. 0. 1. 1. 1. 1. 1. 0. 1. 0. 0. 1. 1.\n",
      " 1. 1. 1. 0. 0. 0. 0. 1. 0. 0. 0. 0. 0. 1. 1. 1. 0. 0. 0. 1. 0. 1. 0. 0.\n",
      " 1. 0. 0. 0. 0. 1. 0. 0. 1. 0. 0. 0. 0. 1. 0. 0. 1. 0. 1. 0. 0. 0. 1. 0.\n",
      " 1. 0. 0. 0. 0. 0. 1. 0. 0. 0. 0. 0. 1. 0. 0. 0. 1. 0. 0. 0. 0. 1. 0. 0.\n",
      " 0. 0. 0. 1. 1. 0. 0. 0. 0. 0. 0. 0. 0. 1. 1. 1. 0. 0. 1. 1. 1. 0. 0. 0.\n",
      " 1. 0. 0. 0. 1. 1. 0. 0. 1. 1. 1. 1. 1. 0. 0. 0. 0. 0. 0. 0. 0. 0. 0. 1.\n",
      " 0. 0. 0. 0. 0. 0. 0. 0. 1. 0. 1. 1. 0. 0. 0. 1. 0. 0. 0. 0. 1. 1. 0. 0.\n",
      " 0. 0. 1. 1. 0. 0. 0. 1. 0. 1. 0. 1. 0. 0. 0. 0. 0. 1. 1. 1. 1. 1. 0. 0.\n",
      " 1. 1. 0. 1. 0. 1. 1. 1. 0. 0. 0. 0. 0. 0. 1. 1. 0. 1. 0. 0. 0. 1. 1. 1.\n",
      " 1. 0. 1. 1. 1. 1. 0. 0. 0. 0. 0. 1. 0. 0. 1. 1. 0. 0. 0. 1. 1. 1. 1. 0.\n",
      " 0. 0. 1. 1. 0. 1. 0. 0. 0. 0. 0. 0. 0. 0. 1. 1. 0. 0. 0. 1. 0. 1. 0. 0.\n",
      " 1. 0. 1. 0. 0. 1. 1. 0. 0. 0. 0. 0. 1. 0. 0. 0. 1. 0. 0. 1. 1. 0. 0. 1.\n",
      " 0. 0. 0. 1. 1. 1. 0. 0. 1. 0. 1. 0. 1. 1. 0. 1. 0. 0. 1. 0. 1. 1. 0. 0.\n",
      " 1. 0. 1. 0. 0. 1. 0. 1. 0. 1. 1. 1. 0. 0. 1. 0. 1. 0. 0. 0. 1. 0. 0. 0.\n",
      " 0. 1. 1. 1. 0. 0. 0. 0. 0. 0. 0. 0. 0. 1. 0. 0. 0. 0. 0. 1. 1. 1. 0. 1.\n",
      " 1. 0. 0. 1. 0. 0. 1. 0. 0. 1. 1. 0. 0. 0. 0. 1. 0. 0. 1. 0. 0. 0. 0. 0.\n",
      " 0. 0. 1. 1. 1. 0. 0. 1. 0. 0. 1. 0. 0. 1. 0. 1. 1. 0. 1. 0. 1. 0. 1. 0.\n",
      " 1. 1. 0. 0. 0. 0. 1. 1. 0. 1. 0. 1. 0. 0. 0. 0. 1. 1. 0. 1. 0. 1. 0. 0.\n",
      " 0. 0. 0. 1. 0. 0. 0. 0. 1. 0. 0. 1. 1. 1. 0. 0. 1. 0. 0. 1. 0. 0. 0. 1.\n",
      " 0. 0. 1. 0. 0. 0. 0. 0. 0. 0. 0. 0. 1. 0. 0. 0. 0. 0. 0. 0. 1. 0. 0. 0.\n",
      " 1. 0. 0. 0. 1. 1. 0. 0. 0. 0. 0. 0. 0. 1. 0. 0. 0. 0. 1. 0. 0. 0. 1. 0.\n",
      " 0. 0. 1. 0. 0. 0. 1. 0. 0. 0. 0. 1. 1. 0. 0. 0. 0. 0. 0. 1. 0. 0. 0. 0.\n",
      " 0. 0. 0. 0. 0. 0. 0. 1. 0. 0. 0. 1. 1. 1. 1. 0. 0. 1. 1. 0. 0. 0. 0. 0.\n",
      " 0. 0. 0. 0. 0. 0. 0. 0. 1. 1. 0. 0. 0. 0. 0. 0. 0. 1. 0. 0. 0. 0. 0. 0.\n",
      " 0. 1. 0. 1. 1. 0. 0. 0. 1. 0. 1. 0. 1. 0. 1. 0. 1. 0. 0. 1. 0. 0. 1. 0.\n",
      " 0. 0. 0. 1. 1. 0. 1. 0. 0. 0. 0. 1. 1. 0. 1. 0. 0. 0. 1. 1. 0. 0. 0. 0.\n",
      " 0. 0. 0. 0. 0. 0. 1. 0. 0. 0. 0. 1. 0. 0. 1. 0. 0. 0. 1. 0. 0. 0. 1. 1.\n",
      " 1. 0. 0. 0. 0. 0. 0. 1. 0. 0. 0. 1. 0. 1. 1. 1. 1. 0. 1. 1. 0. 0. 0. 0.\n",
      " 0. 0. 0. 1. 1. 0. 1. 0. 0. 1. 0. 1. 0. 0. 0. 0. 0. 1. 0. 1. 0. 1. 0. 1.\n",
      " 1. 0. 0. 0. 0. 1. 1. 0. 0. 0. 1. 0. 1. 1. 0. 0. 1. 0. 0. 1. 1. 0. 0. 1.\n",
      " 0. 0. 1. 0. 0. 0. 0. 0. 0. 0. 1. 1. 1. 0. 0. 0. 0. 0. 0. 1. 1. 0. 0. 1.\n",
      " 0. 0. 1. 0. 1. 1. 1. 0. 0. 1. 1. 1. 0. 1. 0. 1. 0. 1. 0. 0. 0. 0. 1. 0.]\n"
     ]
    }
   ],
   "source": [
    "array = dataframe.values\n",
    "X = array[:,0:8]\n",
    "Y = array[:,8]\n",
    "\n",
    "print(\"X\",X)\n",
    "print(\"Y\",Y)"
   ]
  },
  {
   "cell_type": "markdown",
   "id": "d7a44886",
   "metadata": {},
   "source": [
    "# 1. Filter method - information gain"
   ]
  },
  {
   "cell_type": "code",
   "execution_count": 14,
   "id": "e9dcb995",
   "metadata": {},
   "outputs": [
    {
     "name": "stdout",
     "output_type": "stream",
     "text": [
      "importances [0.04969811 0.13407506 0.00523968 0.         0.02609568 0.06264512\n",
      " 0.01403828 0.06220398]\n"
     ]
    }
   ],
   "source": [
    "from sklearn.feature_selection import mutual_info_classif\n",
    "import matplotlib.pyplot as plt\n",
    "import pandas as pd\n",
    "%matplotlib inline\n",
    "\n",
    "importances = mutual_info_classif(X,Y)\n",
    "print(\"importances\",importances)\n",
    "\n"
   ]
  },
  {
   "cell_type": "code",
   "execution_count": 15,
   "id": "a9da36e8",
   "metadata": {},
   "outputs": [
    {
     "data": {
      "image/png": "[encoded data removed]",
      "text/plain": [
       "<Figure size 432x288 with 1 Axes>"
      ]
     },
     "metadata": {
      "needs_background": "light"
     },
     "output_type": "display_data"
    }
   ],
   "source": [
    "feature_names = dataframe.columns\n",
    "feature_names = feature_names[0:len(dataframe.columns)-1]\n",
    "\n",
    "x = feature_names\n",
    "value_list = importances\n",
    "\n",
    "x_pos = [i for i, _ in enumerate(x)]\n",
    "plt.bar(x_pos, value_list, color='teal')\n",
    "plt.xlabel(\"features\")\n",
    "plt.ylabel(\"importances\")\n",
    "plt.title(\"features' importances\")\n",
    "plt.xticks(x_pos, x)\n",
    "\n",
    "plt.show()"
   ]
  },
  {
   "cell_type": "markdown",
   "id": "9c37bd2b",
   "metadata": {},
   "source": [
    "# 1. Filter method -Chi-square Test"
   ]
  },
  {
   "cell_type": "code",
   "execution_count": 16,
   "id": "25f88d6b",
   "metadata": {},
   "outputs": [
    {
     "name": "stdout",
     "output_type": "stream",
     "text": [
      "supports [False  True False False  True False False  True]\n",
      "all features Index(['preg', 'plas', 'pres', 'skin', 'test', 'mass', 'pedi', 'age'], dtype='object')\n",
      "Selected features Index(['plas', 'test', 'age'], dtype='object')\n"
     ]
    }
   ],
   "source": [
    "from sklearn.feature_selection import SelectKBest\n",
    "from sklearn.feature_selection import chi2\n",
    "\n",
    "X_cat = X.astype(int)\n",
    "\n",
    "chi2_features = SelectKBest(chi2, k=3)\n",
    "X_kbest_features = chi2_features.fit_transform( X_cat, Y)\n",
    "#print(\"X_kbest_features\",X_kbest_features)\n",
    "supports = chi2_features.get_support()\n",
    "\n",
    "print(\"supports\", supports)\n",
    "\n",
    "feature_names = dataframe.columns\n",
    "feature_names = feature_names[0:8]\n",
    "print(\"all features\", feature_names)\n",
    " \n",
    "print(\"Selected features\", feature_names[supports])\n"
   ]
  },
  {
   "cell_type": "code",
   "execution_count": 17,
   "id": "64261574",
   "metadata": {},
   "outputs": [
    {
     "data": {
      "image/png": "[encoded data removed]",
      "text/plain": [
       "<Figure size 432x288 with 1 Axes>"
      ]
     },
     "metadata": {
      "needs_background": "light"
     },
     "output_type": "display_data"
    }
   ],
   "source": [
    "importances = supports ==True\n",
    "\n",
    "feature_names = dataframe.columns\n",
    "feature_names = feature_names[0:len(dataframe.columns)-1]\n",
    "\n",
    "x = feature_names\n",
    "value_list = importances\n",
    "\n",
    "x_pos = [i for i, _ in enumerate(x)]\n",
    "plt.bar(x_pos, value_list, color='teal')\n",
    "plt.xlabel(\"features\")\n",
    "plt.ylabel(\"importances\")\n",
    "plt.title(\"features' importances\")\n",
    "plt.xticks(x_pos, x)\n",
    "\n",
    "plt.show()"
   ]
  },
  {
   "cell_type": "code",
   "execution_count": 18,
   "id": "25e4dbb3",
   "metadata": {},
   "outputs": [
    {
     "name": "stdout",
     "output_type": "stream",
     "text": [
      " old feature number: 8\n",
      " reduced feature number: 3\n",
      "\n",
      "X_cat [[  6 148  72  35   0  33   0  50]\n",
      " [  1  85  66  29   0  26   0  31]\n",
      " [  8 183  64   0   0  23   0  32]\n",
      " [  1  89  66  23  94  28   0  21]\n",
      " [  0 137  40  35 168  43   2  33]]\n",
      "X_kbest_features [[148   0  50]\n",
      " [ 85   0  31]\n",
      " [183   0  32]\n",
      " [ 89  94  21]\n",
      " [137 168  33]]\n"
     ]
    }
   ],
   "source": [
    "print(\" old feature number:\", X_cat.shape[1])\n",
    "print(\" reduced feature number:\", X_kbest_features.shape[1])\n",
    "print(\"\")\n",
    "print(\"X_cat\", X_cat[0:5])\n",
    "print(\"X_kbest_features\", X_kbest_features[0:5])\n"
   ]
  },
  {
   "cell_type": "markdown",
   "id": "5fd21843",
   "metadata": {},
   "source": [
    "# 1.Filter Method - Correlation Coefficient"
   ]
  },
  {
   "cell_type": "code",
   "execution_count": 19,
   "id": "f9a3b4b6",
   "metadata": {},
   "outputs": [
    {
     "data": {
      "text/plain": [
       "<AxesSubplot:>"
      ]
     },
     "execution_count": 19,
     "metadata": {},
     "output_type": "execute_result"
    },
    {
     "data": {
      "image/png": "[encoded data removed]",
      "text/plain": [
       "<Figure size 720x432 with 2 Axes>"
      ]
     },
     "metadata": {
      "needs_background": "light"
     },
     "output_type": "display_data"
    }
   ],
   "source": [
    "import seaborn as sns\n",
    "import matplotlib.pyplot as plt\n",
    "%matplotlib inline\n",
    "\n",
    "cor = dataframe.corr()\n",
    "plt.figure(figsize=(10,6))\n",
    "sns.heatmap(cor, annot=True)\n"
   ]
  },
  {
   "cell_type": "code",
   "execution_count": 20,
   "id": "34e8ba9e",
   "metadata": {},
   "outputs": [
    {
     "data": {
      "text/plain": [
       "<AxesSubplot:>"
      ]
     },
     "execution_count": 20,
     "metadata": {},
     "output_type": "execute_result"
    },
    {
     "data": {
      "image/png": "[encoded data removed]",
      "text/plain": [
       "<Figure size 720x432 with 2 Axes>"
      ]
     },
     "metadata": {
      "needs_background": "light"
     },
     "output_type": "display_data"
    }
   ],
   "source": [
    "\n",
    "cor = cor[cor>0.20]\n",
    "plt.figure(figsize=(10,6))\n",
    "sns.heatmap(cor, annot=True)\n"
   ]
  },
  {
   "cell_type": "markdown",
   "id": "24c97f2f",
   "metadata": {},
   "source": [
    "# 1.Filter method -Variance Threshold"
   ]
  },
  {
   "cell_type": "code",
   "execution_count": 21,
   "id": "0721ee73",
   "metadata": {},
   "outputs": [
    {
     "name": "stdout",
     "output_type": "stream",
     "text": [
      "support [False  True  True  True  True  True False  True]\n",
      "columns Index(['preg', 'plas', 'pres', 'skin', 'test', 'mass', 'pedi', 'age', 'class'], dtype='object')\n"
     ]
    }
   ],
   "source": [
    "from sklearn.feature_selection import VarianceThreshold\n",
    "\n",
    "X = array[:,0:8]\n",
    "\n",
    "v_threshold = VarianceThreshold(threshold=16)\n",
    "v_threshold.fit(X)\n",
    "\n",
    "print(\"support\", v_threshold.get_support())\n",
    "print(\"columns\", dataframe.columns)"
   ]
  },
  {
   "cell_type": "code",
   "execution_count": 22,
   "id": "66dc56f2",
   "metadata": {},
   "outputs": [
    {
     "data": {
      "image/png": "[encoded data removed]",
      "text/plain": [
       "<Figure size 432x288 with 1 Axes>"
      ]
     },
     "metadata": {
      "needs_background": "light"
     },
     "output_type": "display_data"
    }
   ],
   "source": [
    "importances = v_threshold.get_support() ==True\n",
    "\n",
    "feature_names = dataframe.columns\n",
    "feature_names = feature_names[0:len(dataframe.columns)-1]\n",
    "\n",
    "x = feature_names\n",
    "value_list = importances\n",
    "\n",
    "x_pos = [i for i, _ in enumerate(x)]\n",
    "plt.bar(x_pos, value_list, color='teal')\n",
    "plt.xlabel(\"features\")\n",
    "plt.ylabel(\"importances\")\n",
    "plt.title(\"features' importances\")\n",
    "plt.xticks(x_pos, x)\n",
    "\n",
    "plt.show()"
   ]
  },
  {
   "cell_type": "markdown",
   "id": "4d63f0db",
   "metadata": {},
   "source": [
    "# 1.Filter method - Mean Absolute Difference (MAD)"
   ]
  },
  {
   "cell_type": "code",
   "execution_count": 23,
   "id": "130be1d6",
   "metadata": {},
   "outputs": [
    {
     "data": {
      "text/plain": [
       "<BarContainer object of 8 artists>"
      ]
     },
     "execution_count": 23,
     "metadata": {},
     "output_type": "execute_result"
    },
    {
     "data": {
      "image/png": "[encoded data removed]",
      "text/plain": [
       "<Figure size 432x288 with 1 Axes>"
      ]
     },
     "metadata": {
      "needs_background": "light"
     },
     "output_type": "display_data"
    }
   ],
   "source": [
    "import numpy as np\n",
    "\n",
    "mean_abs_diff = np.sum( np.abs(X-np.mean(X,axis=0)), axis=0)/X.shape[0]\n",
    "\n",
    "feature_names = dataframe.columns\n",
    "feature_names = feature_names[0:8]\n",
    "#plt.bar( np.arange(X.shape[1]) , mean_abs_diff, color='teal')\n",
    "plt.bar( feature_names , mean_abs_diff, color='teal')"
   ]
  },
  {
   "cell_type": "markdown",
   "id": "1ae7ca17",
   "metadata": {},
   "source": [
    "# 2.Wrapper Methods - Forward Feature Selection"
   ]
  },
  {
   "cell_type": "code",
   "execution_count": 24,
   "id": "0461d553",
   "metadata": {},
   "outputs": [
    {
     "name": "stdout",
     "output_type": "stream",
     "text": [
      "features [0, 1, 2, 5, 6]\n"
     ]
    }
   ],
   "source": [
    "from mlxtend.feature_selection import SequentialFeatureSelector\n",
    "from sklearn.linear_model import LogisticRegression\n",
    "\n",
    "#lr = LogisticRegression()\n",
    "lr = LogisticRegression(class_weight=\"balanced\", solver=\"lbfgs\",random_state=42, n_jobs=-1,max_iter=500)\n",
    "\n",
    "ffs = SequentialFeatureSelector(lr, k_features=\"best\",forward=True, n_jobs=-1)\n",
    "ffs.fit(X,Y)\n",
    "\n",
    "features  = list(ffs.k_feature_names_)\n",
    "features = list(map(int, features))\n",
    "print(\"features\",features)"
   ]
  },
  {
   "cell_type": "code",
   "execution_count": 25,
   "id": "77016379",
   "metadata": {},
   "outputs": [
    {
     "data": {
      "image/png": "[encoded data removed]",
      "text/plain": [
       "<Figure size 432x288 with 1 Axes>"
      ]
     },
     "metadata": {
      "needs_background": "light"
     },
     "output_type": "display_data"
    }
   ],
   "source": [
    "value_list = [0,0,0,0,0,0,0,0]\n",
    "for i in features:\n",
    "    value_list[i] = 1\n",
    "    \n",
    "feature_names = dataframe.columns\n",
    "feature_names = feature_names[0:len(dataframe.columns)-1]\n",
    "\n",
    "x = feature_names\n",
    "#value_list = importances\n",
    "\n",
    "x_pos = [i for i, _ in enumerate(x)]\n",
    "plt.bar(x_pos, value_list, color='teal')\n",
    "plt.xlabel(\"features\")\n",
    "plt.ylabel(\"importances\")\n",
    "plt.title(\"features' importances\")\n",
    "plt.xticks(x_pos, x)\n",
    "\n",
    "plt.show()"
   ]
  },
  {
   "cell_type": "code",
   "execution_count": 26,
   "id": "8da5f167",
   "metadata": {},
   "outputs": [
    {
     "name": "stdout",
     "output_type": "stream",
     "text": [
      "accuracy_score 0.7578125\n"
     ]
    }
   ],
   "source": [
    "#old model\n",
    "\n",
    "from sklearn.metrics import accuracy_score\n",
    "lr.fit(X, Y)\n",
    "y_pred = lr.predict(X)\n",
    "\n",
    "print(\"accuracy_score\",accuracy_score(Y, y_pred))"
   ]
  },
  {
   "cell_type": "code",
   "execution_count": 27,
   "id": "62a243e8",
   "metadata": {},
   "outputs": [
    {
     "name": "stdout",
     "output_type": "stream",
     "text": [
      "Xnew [[  6.    148.     72.     33.6     0.627]\n",
      " [  1.     85.     66.     26.6     0.351]\n",
      " [  8.    183.     64.     23.3     0.672]\n",
      " ...\n",
      " [  5.    121.     72.     26.2     0.245]\n",
      " [  1.    126.     60.     30.1     0.349]\n",
      " [  1.     93.     70.     30.4     0.315]]\n",
      "accuracy_score 0.7721354166666666\n"
     ]
    }
   ],
   "source": [
    "#new model\n",
    "Xnew = X[:,features]\n",
    "print(\"Xnew\", Xnew)\n",
    "\n",
    "lr.fit(Xnew, Y)\n",
    "y_pred=lr.predict(Xnew)\n",
    "print(\"accuracy_score\",accuracy_score(Y, y_pred))"
   ]
  },
  {
   "cell_type": "markdown",
   "id": "e7ffdde1",
   "metadata": {},
   "source": [
    "# 2.Wrapper Methods - Backward Feature Selection"
   ]
  },
  {
   "cell_type": "code",
   "execution_count": 28,
   "id": "0bb7d838",
   "metadata": {},
   "outputs": [
    {
     "name": "stdout",
     "output_type": "stream",
     "text": [
      "features [0, 1, 2, 5, 6]\n"
     ]
    }
   ],
   "source": [
    "from mlxtend.feature_selection import SequentialFeatureSelector\n",
    "from sklearn.linear_model import LogisticRegression\n",
    "\n",
    "lr = LogisticRegression(class_weight=\"balanced\", solver=\"lbfgs\",random_state=42, n_jobs=-1,max_iter=500)\n",
    "lr.fit(X,Y)\n",
    "bfs = SequentialFeatureSelector( lr, k_features=\"best\", forward=False, n_jobs=-1)\n",
    "bfs.fit(X,Y)\n",
    "\n",
    "features  = list(ffs.k_feature_names_)\n",
    "features = list(map(int, features))\n",
    "print(\"features\",features)"
   ]
  },
  {
   "cell_type": "code",
   "execution_count": 29,
   "id": "8fbf47a6",
   "metadata": {},
   "outputs": [
    {
     "data": {
      "image/png": "[encoded data removed]",
      "text/plain": [
       "<Figure size 432x288 with 1 Axes>"
      ]
     },
     "metadata": {
      "needs_background": "light"
     },
     "output_type": "display_data"
    }
   ],
   "source": [
    "value_list = [0,0,0,0,0,0,0,0]\n",
    "for i in features:\n",
    "    value_list[i] = 1\n",
    "    \n",
    "feature_names = dataframe.columns\n",
    "feature_names = feature_names[0:len(dataframe.columns)-1]\n",
    "\n",
    "x = feature_names\n",
    "#value_list = importances\n",
    "\n",
    "x_pos = [i for i, _ in enumerate(x)]\n",
    "plt.bar(x_pos, value_list, color='teal')\n",
    "plt.xlabel(\"features\")\n",
    "plt.ylabel(\"importances\")\n",
    "plt.title(\"features' importances\")\n",
    "plt.xticks(x_pos, x)\n",
    "\n",
    "plt.show()"
   ]
  },
  {
   "cell_type": "code",
   "execution_count": 30,
   "id": "e13e58fc",
   "metadata": {},
   "outputs": [
    {
     "name": "stdout",
     "output_type": "stream",
     "text": [
      "accuracy_score 0.7578125\n"
     ]
    }
   ],
   "source": [
    "#old model\n",
    "\n",
    "from sklearn.metrics import accuracy_score\n",
    "lr.fit(X, Y)\n",
    "y_pred = lr.predict(X)\n",
    "\n",
    "print(\"accuracy_score\",accuracy_score(Y, y_pred))"
   ]
  },
  {
   "cell_type": "code",
   "execution_count": 31,
   "id": "c575c8bb",
   "metadata": {},
   "outputs": [
    {
     "name": "stdout",
     "output_type": "stream",
     "text": [
      "Xnew [[  6.    148.     72.     33.6     0.627]\n",
      " [  1.     85.     66.     26.6     0.351]\n",
      " [  8.    183.     64.     23.3     0.672]\n",
      " ...\n",
      " [  5.    121.     72.     26.2     0.245]\n",
      " [  1.    126.     60.     30.1     0.349]\n",
      " [  1.     93.     70.     30.4     0.315]]\n",
      "accuracy_score 0.7721354166666666\n"
     ]
    }
   ],
   "source": [
    "#new model\n",
    "\n",
    "Xnew = X[:,features]\n",
    "print(\"Xnew\", Xnew)\n",
    "\n",
    "lr.fit(Xnew, Y)\n",
    "y_pred=lr.predict(Xnew)\n",
    "print(\"accuracy_score\",accuracy_score(Y, y_pred))"
   ]
  },
  {
   "cell_type": "markdown",
   "id": "c2a45a05",
   "metadata": {},
   "source": [
    "# 2.Wrapper Methods - Exhaustive Feature Selection"
   ]
  },
  {
   "cell_type": "code",
   "execution_count": 32,
   "id": "5370253c",
   "metadata": {},
   "outputs": [
    {
     "name": "stderr",
     "output_type": "stream",
     "text": [
      "Features: 163/163"
     ]
    }
   ],
   "source": [
    "from mlxtend.feature_selection import ExhaustiveFeatureSelector\n",
    "from sklearn.ensemble import RandomForestClassifier\n",
    "\n",
    "efs = ExhaustiveFeatureSelector( RandomForestClassifier(),\n",
    "                               min_features=4,max_features=8,scoring=\"roc_auc\", cv=2)\n",
    "efs = efs.fit(X,Y)\n"
   ]
  },
  {
   "cell_type": "code",
   "execution_count": 33,
   "id": "a99c840d",
   "metadata": {},
   "outputs": [
    {
     "name": "stdout",
     "output_type": "stream",
     "text": [
      "feature index list [0, 1, 2, 5, 6, 7]\n",
      "selected_features [[  6.    148.     72.     33.6     0.627  50.   ]\n",
      " [  1.     85.     66.     26.6     0.351  31.   ]\n",
      " [  8.    183.     64.     23.3     0.672  32.   ]\n",
      " ...\n",
      " [  5.    121.     72.     26.2     0.245  30.   ]\n",
      " [  1.    126.     60.     30.1     0.349  47.   ]\n",
      " [  1.     93.     70.     30.4     0.315  23.   ]]\n",
      "score 0.8292238805970149\n"
     ]
    }
   ],
   "source": [
    "\n",
    "print(\"feature index list\", list(efs.best_idx_))\n",
    "\n",
    "selected_features = X[:, list(efs.best_idx_)]\n",
    "print(\"selected_features\",selected_features)\n",
    "print(\"score\", efs.best_score_)"
   ]
  },
  {
   "cell_type": "code",
   "execution_count": 34,
   "id": "10e5450d",
   "metadata": {},
   "outputs": [
    {
     "data": {
      "image/png": "[encoded data removed]",
      "text/plain": [
       "<Figure size 432x288 with 1 Axes>"
      ]
     },
     "metadata": {
      "needs_background": "light"
     },
     "output_type": "display_data"
    }
   ],
   "source": [
    "value_list = [0,0,0,0,0,0,0,0]\n",
    "for i in list(efs.best_idx_):\n",
    "    value_list[i] = 1\n",
    "    \n",
    "feature_names = dataframe.columns\n",
    "feature_names = feature_names[0:len(dataframe.columns)-1]\n",
    "\n",
    "x = feature_names\n",
    "#value_list = importances\n",
    "\n",
    "x_pos = [i for i, _ in enumerate(x)]\n",
    "plt.bar(x_pos, value_list, color='teal')\n",
    "plt.xlabel(\"features\")\n",
    "plt.ylabel(\"importances\")\n",
    "plt.title(\"features' importances\")\n",
    "plt.xticks(x_pos, x)\n",
    "\n",
    "plt.show()"
   ]
  },
  {
   "cell_type": "code",
   "execution_count": 35,
   "id": "4002cd58",
   "metadata": {},
   "outputs": [
    {
     "name": "stdout",
     "output_type": "stream",
     "text": [
      "selected feature_names Index(['preg', 'plas', 'pres', 'mass', 'pedi', 'age'], dtype='object')\n"
     ]
    }
   ],
   "source": [
    "feature_names = dataframe.columns\n",
    "feature_names = feature_names[0:8]\n",
    "print(\"selected feature_names\",feature_names[list(efs.best_idx_)])\n"
   ]
  },
  {
   "cell_type": "markdown",
   "id": "d0b18526",
   "metadata": {},
   "source": [
    "# 2.Wrapper Methods -Recursive Feature Elimination"
   ]
  },
  {
   "cell_type": "code",
   "execution_count": 36,
   "id": "e18704a6",
   "metadata": {},
   "outputs": [
    {
     "data": {
      "text/plain": [
       "RFE(estimator=LogisticRegression(C=1.0, class_weight='balanced', dual=False,\n",
       "                                 fit_intercept=True, intercept_scaling=1,\n",
       "                                 l1_ratio=None, max_iter=500,\n",
       "                                 multi_class='auto', n_jobs=-1, penalty='l2',\n",
       "                                 random_state=42, solver='lbfgs', tol=0.0001,\n",
       "                                 verbose=0, warm_start=False),\n",
       "    n_features_to_select=5, step=1, verbose=0)"
      ]
     },
     "execution_count": 36,
     "metadata": {},
     "output_type": "execute_result"
    }
   ],
   "source": [
    "from sklearn.feature_selection import RFE\n",
    "lr = LogisticRegression(class_weight=\"balanced\", solver=\"lbfgs\",random_state=42, n_jobs=-1,max_iter=500)\n",
    "\n",
    "ref=RFE(lr, n_features_to_select=5)\n",
    "ref.fit(X,Y)\n"
   ]
  },
  {
   "cell_type": "code",
   "execution_count": 37,
   "id": "ac0d92d2",
   "metadata": {},
   "outputs": [
    {
     "name": "stdout",
     "output_type": "stream",
     "text": [
      "accuracy_score 0.7604166666666666\n"
     ]
    }
   ],
   "source": [
    "y_pred=ref.predict(X)\n",
    "print(\"accuracy_score\",accuracy_score(Y, y_pred))"
   ]
  },
  {
   "cell_type": "code",
   "execution_count": 38,
   "id": "22a95a23",
   "metadata": {},
   "outputs": [
    {
     "data": {
      "image/png": "[encoded data removed]",
      "text/plain": [
       "<Figure size 432x288 with 1 Axes>"
      ]
     },
     "metadata": {
      "needs_background": "light"
     },
     "output_type": "display_data"
    }
   ],
   "source": [
    "importances  = ref.support_ == True\n",
    "\n",
    "feature_names = dataframe.columns\n",
    "feature_names = feature_names[0:len(dataframe.columns)-1]\n",
    "\n",
    "x = feature_names\n",
    "value_list = importances\n",
    "\n",
    "x_pos = [i for i, _ in enumerate(x)]\n",
    "plt.bar(x_pos, value_list, color='teal')\n",
    "plt.xlabel(\"features\")\n",
    "plt.ylabel(\"importances\")\n",
    "plt.title(\"features' importances\")\n",
    "plt.xticks(x_pos, x)\n",
    "\n",
    "plt.show()"
   ]
  },
  {
   "cell_type": "markdown",
   "id": "afc2bbe1",
   "metadata": {},
   "source": [
    "# 3.Embedded Methods - LASSO Regularization (L1)"
   ]
  },
  {
   "cell_type": "code",
   "execution_count": 39,
   "id": "b9ff3a9e",
   "metadata": {},
   "outputs": [
    {
     "name": "stdout",
     "output_type": "stream",
     "text": [
      "support [ True  True  True  True  True  True  True  True]\n"
     ]
    }
   ],
   "source": [
    "from sklearn.linear_model import LogisticRegression\n",
    "from sklearn.feature_selection import SelectFromModel\n",
    "\n",
    "logistic = LogisticRegression(C=1, penalty=\"l1\", solver=\"liblinear\")\n",
    "model = SelectFromModel(logistic)#, prefit=True)         \n",
    "model.fit(X,Y)\n",
    "supports = model.get_support()\n",
    "\n",
    "print(\"support\",supports)\n",
    "\n"
   ]
  },
  {
   "cell_type": "code",
   "execution_count": 40,
   "id": "702a718a",
   "metadata": {},
   "outputs": [
    {
     "data": {
      "image/png": "[encoded data removed]",
      "text/plain": [
       "<Figure size 432x288 with 1 Axes>"
      ]
     },
     "metadata": {
      "needs_background": "light"
     },
     "output_type": "display_data"
    }
   ],
   "source": [
    "importances = supports ==True\n",
    "\n",
    "feature_names = dataframe.columns\n",
    "feature_names = feature_names[0:len(dataframe.columns)-1]\n",
    "\n",
    "x = feature_names\n",
    "value_list = importances\n",
    "\n",
    "x_pos = [i for i, _ in enumerate(x)]\n",
    "plt.bar(x_pos, value_list, color='teal')\n",
    "plt.xlabel(\"features\")\n",
    "plt.ylabel(\"importances\")\n",
    "plt.title(\"features' importances\")\n",
    "plt.xticks(x_pos, x)\n",
    "\n",
    "plt.show()"
   ]
  },
  {
   "cell_type": "code",
   "execution_count": 41,
   "id": "b0592394",
   "metadata": {},
   "outputs": [
    {
     "name": "stdout",
     "output_type": "stream",
     "text": [
      "selected_features Index(['preg', 'plas', 'pres', 'skin', 'test', 'mass', 'pedi', 'age'], dtype='object')\n"
     ]
    }
   ],
   "source": [
    "feature_names = dataframe.columns\n",
    "feature_names = feature_names[0:8]\n",
    "\n",
    "selected_features = feature_names[ supports]\n",
    "print(\"selected_features\",selected_features)"
   ]
  },
  {
   "cell_type": "code",
   "execution_count": 42,
   "id": "7b2b6359",
   "metadata": {},
   "outputs": [
    {
     "name": "stdout",
     "output_type": "stream",
     "text": [
      "X_new [[  6.    148.     72.    ...  33.6     0.627  50.   ]\n",
      " [  1.     85.     66.    ...  26.6     0.351  31.   ]\n",
      " [  8.    183.     64.    ...  23.3     0.672  32.   ]\n",
      " ...\n",
      " [  5.    121.     72.    ...  26.2     0.245  30.   ]\n",
      " [  1.    126.     60.    ...  30.1     0.349  47.   ]\n",
      " [  1.     93.     70.    ...  30.4     0.315  23.   ]]\n",
      "accuracy_score 0.7799479166666666\n"
     ]
    }
   ],
   "source": [
    "#new model\n",
    "\n",
    "X_new= model.transform(X)\n",
    "print(\"X_new\",X_new)\n",
    "\n",
    "logistic.fit( X_new,Y)\n",
    "y_pred=logistic.predict(X_new)\n",
    "print(\"accuracy_score\",accuracy_score(Y, y_pred))"
   ]
  },
  {
   "cell_type": "markdown",
   "id": "4517b693",
   "metadata": {},
   "source": [
    "# 3.Embedded Methods - Random Forest Importance"
   ]
  },
  {
   "cell_type": "code",
   "execution_count": 43,
   "id": "0323a0e9",
   "metadata": {},
   "outputs": [
    {
     "data": {
      "text/html": [
       "<div>\n",
       "<style scoped>\n",
       "    .dataframe tbody tr th:only-of-type {\n",
       "        vertical-align: middle;\n",
       "    }\n",
       "\n",
       "    .dataframe tbody tr th {\n",
       "        vertical-align: top;\n",
       "    }\n",
       "\n",
       "    .dataframe thead th {\n",
       "        text-align: right;\n",
       "    }\n",
       "</style>\n",
       "<table border=\"1\" class=\"dataframe\">\n",
       "  <thead>\n",
       "    <tr style=\"text-align: right;\">\n",
       "      <th></th>\n",
       "      <th>Features</th>\n",
       "      <th>Importances</th>\n",
       "    </tr>\n",
       "  </thead>\n",
       "  <tbody>\n",
       "    <tr>\n",
       "      <th>0</th>\n",
       "      <td>preg</td>\n",
       "      <td>0.087544</td>\n",
       "    </tr>\n",
       "    <tr>\n",
       "      <th>1</th>\n",
       "      <td>plas</td>\n",
       "      <td>0.257354</td>\n",
       "    </tr>\n",
       "    <tr>\n",
       "      <th>2</th>\n",
       "      <td>pres</td>\n",
       "      <td>0.088770</td>\n",
       "    </tr>\n",
       "    <tr>\n",
       "      <th>3</th>\n",
       "      <td>skin</td>\n",
       "      <td>0.067814</td>\n",
       "    </tr>\n",
       "    <tr>\n",
       "      <th>4</th>\n",
       "      <td>test</td>\n",
       "      <td>0.074072</td>\n",
       "    </tr>\n",
       "    <tr>\n",
       "      <th>5</th>\n",
       "      <td>mass</td>\n",
       "      <td>0.163669</td>\n",
       "    </tr>\n",
       "    <tr>\n",
       "      <th>6</th>\n",
       "      <td>pedi</td>\n",
       "      <td>0.124293</td>\n",
       "    </tr>\n",
       "    <tr>\n",
       "      <th>7</th>\n",
       "      <td>age</td>\n",
       "      <td>0.136483</td>\n",
       "    </tr>\n",
       "  </tbody>\n",
       "</table>\n",
       "</div>"
      ],
      "text/plain": [
       "  Features  Importances\n",
       "0     preg     0.087544\n",
       "1     plas     0.257354\n",
       "2     pres     0.088770\n",
       "3     skin     0.067814\n",
       "4     test     0.074072\n",
       "5     mass     0.163669\n",
       "6     pedi     0.124293\n",
       "7      age     0.136483"
      ]
     },
     "execution_count": 43,
     "metadata": {},
     "output_type": "execute_result"
    }
   ],
   "source": [
    "from sklearn.ensemble import RandomForestClassifier\n",
    "\n",
    "model = RandomForestClassifier(n_estimators=340)\n",
    "model.fit(X,Y)\n",
    "importances = model.feature_importances_\n",
    "\n",
    "feature_names = dataframe.columns\n",
    "feature_names = feature_names[0:8]\n",
    "final_df = pd.DataFrame({\"Features\":feature_names, \"Importances\":importances})\n",
    "#final_df = final_df.set_index (\"Importances\")\n",
    "final_df.head(10)"
   ]
  },
  {
   "cell_type": "code",
   "execution_count": 44,
   "id": "6e09e9fd",
   "metadata": {},
   "outputs": [
    {
     "data": {
      "image/png": "[encoded data removed]",
      "text/plain": [
       "<Figure size 432x288 with 1 Axes>"
      ]
     },
     "metadata": {
      "needs_background": "light"
     },
     "output_type": "display_data"
    }
   ],
   "source": [
    "\n",
    "feature_names = dataframe.columns\n",
    "feature_names = feature_names[0:len(dataframe.columns)-1]\n",
    "\n",
    "x = feature_names\n",
    "value_list = importances\n",
    "\n",
    "x_pos = [i for i, _ in enumerate(x)]\n",
    "plt.bar(x_pos, value_list, color='teal')\n",
    "plt.xlabel(\"features\")\n",
    "plt.ylabel(\"importances\")\n",
    "plt.title(\"features' importances\")\n",
    "plt.xticks(x_pos, x)\n",
    "\n",
    "plt.show()"
   ]
  },
  {
   "cell_type": "code",
   "execution_count": 45,
   "id": "a8dd4b61",
   "metadata": {},
   "outputs": [
    {
     "data": {
      "image/png": "[encoded data removed]",
      "text/plain": [
       "<Figure size 432x288 with 1 Axes>"
      ]
     },
     "metadata": {
      "needs_background": "light"
     },
     "output_type": "display_data"
    }
   ],
   "source": [
    "import matplotlib.pyplot as plt\n",
    "%matplotlib inline\n",
    "\n",
    "plt.bar(final_df[\"Features\"], final_df[\"Importances\"], color='teal')\n",
    "plt.show()"
   ]
  },
  {
   "cell_type": "code",
   "execution_count": null,
   "id": "277162cc",
   "metadata": {},
   "outputs": [],
   "source": []
  }
 ],
 "metadata": {
  "kernelspec": {
   "display_name": "Python 3",
   "language": "python",
   "name": "python3"
  },
  "language_info": {
   "codemirror_mode": {
    "name": "ipython",
    "version": 3
   },
   "file_extension": ".py",
   "mimetype": "text/x-python",
   "name": "python",
   "nbconvert_exporter": "python",
   "pygments_lexer": "ipython3",
   "version": "3.8.8"
  }
 },
 "nbformat": 4,
 "nbformat_minor": 5
}
